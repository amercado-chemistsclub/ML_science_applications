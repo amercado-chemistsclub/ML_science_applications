{
  "nbformat": 4,
  "nbformat_minor": 0,
  "metadata": {
    "kernelspec": {
      "display_name": "Python 3",
      "language": "python",
      "name": "python3"
    },
    "language_info": {
      "codemirror_mode": {
        "name": "ipython",
        "version": 3
      },
      "file_extension": ".py",
      "mimetype": "text/x-python",
      "name": "python",
      "nbconvert_exporter": "python",
      "pygments_lexer": "ipython3",
      "version": "3.6.2"
    },
    "colab": {
      "name": "Biodeg_h2o.ipynb",
      "provenance": []
    },
    "accelerator": "TPU",
    "widgets": {
      "application/vnd.jupyter.widget-state+json": {
        "e543429f13174e70a8bece6f48587b9d": {
          "model_module": "@jupyter-widgets/controls",
          "model_name": "HBoxModel",
          "state": {
            "_view_name": "HBoxView",
            "_dom_classes": [],
            "_model_name": "HBoxModel",
            "_view_module": "@jupyter-widgets/controls",
            "_model_module_version": "1.5.0",
            "_view_count": null,
            "_view_module_version": "1.5.0",
            "box_style": "",
            "layout": "IPY_MODEL_edae34c402334949932512111c888e13",
            "_model_module": "@jupyter-widgets/controls",
            "children": [
              "IPY_MODEL_b606bba74a6d4c6bbd0f122e32f6252f",
              "IPY_MODEL_326e492709494db99a7a5fd172284d4f"
            ]
          }
        },
        "edae34c402334949932512111c888e13": {
          "model_module": "@jupyter-widgets/base",
          "model_name": "LayoutModel",
          "state": {
            "_view_name": "LayoutView",
            "grid_template_rows": null,
            "right": null,
            "justify_content": null,
            "_view_module": "@jupyter-widgets/base",
            "overflow": null,
            "_model_module_version": "1.2.0",
            "_view_count": null,
            "flex_flow": null,
            "width": null,
            "min_width": null,
            "border": null,
            "align_items": null,
            "bottom": null,
            "_model_module": "@jupyter-widgets/base",
            "top": null,
            "grid_column": null,
            "overflow_y": null,
            "overflow_x": null,
            "grid_auto_flow": null,
            "grid_area": null,
            "grid_template_columns": null,
            "flex": null,
            "_model_name": "LayoutModel",
            "justify_items": null,
            "grid_row": null,
            "max_height": null,
            "align_content": null,
            "visibility": null,
            "align_self": null,
            "height": null,
            "min_height": null,
            "padding": null,
            "grid_auto_rows": null,
            "grid_gap": null,
            "max_width": null,
            "order": null,
            "_view_module_version": "1.2.0",
            "grid_template_areas": null,
            "object_position": null,
            "object_fit": null,
            "grid_auto_columns": null,
            "margin": null,
            "display": null,
            "left": null
          }
        },
        "b606bba74a6d4c6bbd0f122e32f6252f": {
          "model_module": "@jupyter-widgets/controls",
          "model_name": "FloatProgressModel",
          "state": {
            "_view_name": "ProgressView",
            "style": "IPY_MODEL_f7823fa57fc44e7294fa541a1e811cd3",
            "_dom_classes": [],
            "description": "Optimization Progress: 100%",
            "_model_name": "FloatProgressModel",
            "bar_style": "",
            "max": 300,
            "_view_module": "@jupyter-widgets/controls",
            "_model_module_version": "1.5.0",
            "value": 300,
            "_view_count": null,
            "_view_module_version": "1.5.0",
            "orientation": "horizontal",
            "min": 0,
            "description_tooltip": null,
            "_model_module": "@jupyter-widgets/controls",
            "layout": "IPY_MODEL_c2baf20d687f4215b2cf08b4717bbe3d"
          }
        },
        "326e492709494db99a7a5fd172284d4f": {
          "model_module": "@jupyter-widgets/controls",
          "model_name": "HTMLModel",
          "state": {
            "_view_name": "HTMLView",
            "style": "IPY_MODEL_2669a58bdf5d4a629f74c6abca72aac1",
            "_dom_classes": [],
            "description": "",
            "_model_name": "HTMLModel",
            "placeholder": "​",
            "_view_module": "@jupyter-widgets/controls",
            "_model_module_version": "1.5.0",
            "value": " 300/300 [07:22&lt;00:00,  1.60s/pipeline]",
            "_view_count": null,
            "_view_module_version": "1.5.0",
            "description_tooltip": null,
            "_model_module": "@jupyter-widgets/controls",
            "layout": "IPY_MODEL_3c46aac3a3a544d6b36d9051c7ffbdb8"
          }
        },
        "f7823fa57fc44e7294fa541a1e811cd3": {
          "model_module": "@jupyter-widgets/controls",
          "model_name": "ProgressStyleModel",
          "state": {
            "_view_name": "StyleView",
            "_model_name": "ProgressStyleModel",
            "description_width": "initial",
            "_view_module": "@jupyter-widgets/base",
            "_model_module_version": "1.5.0",
            "_view_count": null,
            "_view_module_version": "1.2.0",
            "bar_color": null,
            "_model_module": "@jupyter-widgets/controls"
          }
        },
        "c2baf20d687f4215b2cf08b4717bbe3d": {
          "model_module": "@jupyter-widgets/base",
          "model_name": "LayoutModel",
          "state": {
            "_view_name": "LayoutView",
            "grid_template_rows": null,
            "right": null,
            "justify_content": null,
            "_view_module": "@jupyter-widgets/base",
            "overflow": null,
            "_model_module_version": "1.2.0",
            "_view_count": null,
            "flex_flow": null,
            "width": null,
            "min_width": null,
            "border": null,
            "align_items": null,
            "bottom": null,
            "_model_module": "@jupyter-widgets/base",
            "top": null,
            "grid_column": null,
            "overflow_y": null,
            "overflow_x": null,
            "grid_auto_flow": null,
            "grid_area": null,
            "grid_template_columns": null,
            "flex": null,
            "_model_name": "LayoutModel",
            "justify_items": null,
            "grid_row": null,
            "max_height": null,
            "align_content": null,
            "visibility": null,
            "align_self": null,
            "height": null,
            "min_height": null,
            "padding": null,
            "grid_auto_rows": null,
            "grid_gap": null,
            "max_width": null,
            "order": null,
            "_view_module_version": "1.2.0",
            "grid_template_areas": null,
            "object_position": null,
            "object_fit": null,
            "grid_auto_columns": null,
            "margin": null,
            "display": null,
            "left": null
          }
        },
        "2669a58bdf5d4a629f74c6abca72aac1": {
          "model_module": "@jupyter-widgets/controls",
          "model_name": "DescriptionStyleModel",
          "state": {
            "_view_name": "StyleView",
            "_model_name": "DescriptionStyleModel",
            "description_width": "",
            "_view_module": "@jupyter-widgets/base",
            "_model_module_version": "1.5.0",
            "_view_count": null,
            "_view_module_version": "1.2.0",
            "_model_module": "@jupyter-widgets/controls"
          }
        },
        "3c46aac3a3a544d6b36d9051c7ffbdb8": {
          "model_module": "@jupyter-widgets/base",
          "model_name": "LayoutModel",
          "state": {
            "_view_name": "LayoutView",
            "grid_template_rows": null,
            "right": null,
            "justify_content": null,
            "_view_module": "@jupyter-widgets/base",
            "overflow": null,
            "_model_module_version": "1.2.0",
            "_view_count": null,
            "flex_flow": null,
            "width": null,
            "min_width": null,
            "border": null,
            "align_items": null,
            "bottom": null,
            "_model_module": "@jupyter-widgets/base",
            "top": null,
            "grid_column": null,
            "overflow_y": null,
            "overflow_x": null,
            "grid_auto_flow": null,
            "grid_area": null,
            "grid_template_columns": null,
            "flex": null,
            "_model_name": "LayoutModel",
            "justify_items": null,
            "grid_row": null,
            "max_height": null,
            "align_content": null,
            "visibility": null,
            "align_self": null,
            "height": null,
            "min_height": null,
            "padding": null,
            "grid_auto_rows": null,
            "grid_gap": null,
            "max_width": null,
            "order": null,
            "_view_module_version": "1.2.0",
            "grid_template_areas": null,
            "object_position": null,
            "object_fit": null,
            "grid_auto_columns": null,
            "margin": null,
            "display": null,
            "left": null
          }
        }
      }
    }
  },
  "cells": [
    {
      "cell_type": "code",
      "metadata": {
        "id": "5rqD2gpK9evC",
        "colab_type": "code",
        "colab": {
          "base_uri": "https://localhost:8080/",
          "height": 208
        },
        "outputId": "504d0723-9d98-4684-acc5-5280164d6e77"
      },
      "source": [
        "!wget http://archive.ics.uci.edu/ml/machine-learning-databases/00254/biodeg.csv"
      ],
      "execution_count": 1,
      "outputs": [
        {
          "output_type": "stream",
          "text": [
            "--2020-07-15 00:12:00--  http://archive.ics.uci.edu/ml/machine-learning-databases/00254/biodeg.csv\n",
            "Resolving archive.ics.uci.edu (archive.ics.uci.edu)... 128.195.10.252\n",
            "Connecting to archive.ics.uci.edu (archive.ics.uci.edu)|128.195.10.252|:80... connected.\n",
            "HTTP request sent, awaiting response... 200 OK\n",
            "Length: 155987 (152K) [application/x-httpd-php]\n",
            "Saving to: ‘biodeg.csv’\n",
            "\n",
            "\rbiodeg.csv            0%[                    ]       0  --.-KB/s               \rbiodeg.csv          100%[===================>] 152.33K  --.-KB/s    in 0.1s    \n",
            "\n",
            "2020-07-15 00:12:00 (1.22 MB/s) - ‘biodeg.csv’ saved [155987/155987]\n",
            "\n"
          ],
          "name": "stdout"
        }
      ]
    },
    {
      "cell_type": "code",
      "metadata": {
        "id": "RKx3Oj_v-onI",
        "colab_type": "code",
        "colab": {
          "base_uri": "https://localhost:8080/",
          "height": 191
        },
        "outputId": "8285c07e-4502-49d2-8aa7-6f9c56757ad8"
      },
      "source": [
        "# check the top of the data file before loading\n",
        "!head -10 biodeg.csv"
      ],
      "execution_count": 2,
      "outputs": [
        {
          "output_type": "stream",
          "text": [
            "3.919;2.6909;0;0;0;0;0;31.4;2;0;0;0;3.106;2.55;9.002;0;0.96;1.142;0;0;0;1.201;0;0;0;0;1.932;0.011;0;0;4.489;0;0;0;0;2.949;1.591;0;7.253;0;0;RB\r\n",
            "4.17;2.1144;0;0;0;0;0;30.8;1;1;0;0;2.461;1.393;8.723;1;0.989;1.144;0;0;0;1.104;1;0;0;0;2.214;-0.204;0;0;1.542;0;0;0;0;3.315;1.967;0;7.257;0;0;RB\r\n",
            "3.932;3.2512;0;0;0;0;0;26.7;2;4;0;0;3.279;2.585;9.11;0;1.009;1.152;0;0;0;1.092;0;0;0;0;1.942;-0.008;0;0;4.891;0;0;0;1;3.076;2.417;0;7.601;0;0;RB\r\n",
            "3;2.7098;0;0;0;0;0;20;0;2;0;0;2.1;0.918;6.594;0;1.108;1.167;0;0;0;1.024;0;0;0;0;1.414;1.073;0;8.361;1.333;0;0;0;1;3.046;5;0;6.69;0;0;RB\r\n",
            "4.236;3.3944;0;0;0;0;0;29.4;2;4;0;-0.271;3.449;2.753;9.528;2;1.004;1.147;0;0;0;1.137;0;0;0;0;1.985;-0.002;0;10.348;5.588;0;0;0;0;3.351;2.405;0;8.003;0;0;RB\r\n",
            "4.236;3.4286;0;0;0;0;0;28.6;2;4;0;-0.275;3.313;2.522;9.383;1;1.014;1.149;0;0;0;1.119;0;0;0;0;1.98;-0.008;0;10.276;4.746;0;0;0;0;3.351;2.556;0;7.904;0;0;RB\r\n",
            "5;5.0476;1;0;0;0;0;11.1;0;3;0;0;2.872;0.722;9.657;0;1.092;1.153;0;0;0;1.125;0;0;0;0;2;0.446;0;18.375;0.8;0;0;0;1;4.712;4.583;0;9.303;0;0;RB\r\n",
            "4.525;3.8301;0;0;0;0;0;31.6;3;2;0;-0.039;3.418;2.468;9.786;5;0.98;1.142;0;0;0;1.179;0;0;0;0;2.119;-0.002;0;11.115;3.889;0;0;0;0;3.379;2.143;0;7.95;0;0;RB\r\n",
            "4.596;3.0777;0;0;0;0;2;44.4;2;0;0;0;2.97;0.875;9.54;0;0.968;1.115;0;0;0;1.328;1;0;0;0;2.175;0.041;0;0;1.069;0;0;0;0;3.626;1.917;0;7.939;0;0;RB\r\n",
            "5.04;3.6112;0;0;1;0;2;41.2;0;4;3;-1.29;3.483;1.258;10.159;8;1.069;1.127;0;1;0;1.199;1;0;0;0;2.323;0.005;0;30.959;1.711;0;1;2;1;3.888;3.5;1;8.706;0;0;RB\r\n"
          ],
          "name": "stdout"
        }
      ]
    },
    {
      "cell_type": "code",
      "metadata": {
        "id": "ZIOPZ7Dg0cr1",
        "colab_type": "code",
        "colab": {}
      },
      "source": [
        "#Insert java and h2o.ai libraries"
      ],
      "execution_count": 3,
      "outputs": []
    },
    {
      "cell_type": "code",
      "metadata": {
        "id": "5IPhYEN4AwEn",
        "colab_type": "code",
        "colab": {}
      },
      "source": [
        "!apt-get install openjdk-8-jdk -qq > /dev/null"
      ],
      "execution_count": null,
      "outputs": []
    },
    {
      "cell_type": "code",
      "metadata": {
        "id": "nYJgFjVoA5Aw",
        "colab_type": "code",
        "colab": {}
      },
      "source": [
        "!pip install h2o -qq"
      ],
      "execution_count": null,
      "outputs": []
    },
    {
      "cell_type": "code",
      "metadata": {
        "id": "hRorfSDfBD4T",
        "colab_type": "code",
        "colab": {}
      },
      "source": [
        ""
      ],
      "execution_count": null,
      "outputs": []
    },
    {
      "cell_type": "code",
      "metadata": {
        "id": "hIfrP7EI9cCi",
        "colab_type": "code",
        "colab": {}
      },
      "source": [
        "import pandas as pd\n",
        "import numpy as np"
      ],
      "execution_count": 5,
      "outputs": []
    },
    {
      "cell_type": "code",
      "metadata": {
        "id": "7uuMGI8V-z4k",
        "colab_type": "code",
        "colab": {}
      },
      "source": [
        ""
      ],
      "execution_count": null,
      "outputs": []
    },
    {
      "cell_type": "code",
      "metadata": {
        "id": "ZdwSm6IQ9cDA",
        "colab_type": "code",
        "colab": {}
      },
      "source": [
        "#import dataset of QSAR features and target value\n",
        "df_bio=pd.read_csv(\"biodeg.csv\", sep = ';', header=None)\n"
      ],
      "execution_count": 6,
      "outputs": []
    },
    {
      "cell_type": "code",
      "metadata": {
        "id": "ZgrGsc_B9cDS",
        "colab_type": "code",
        "colab": {
          "base_uri": "https://localhost:8080/",
          "height": 226
        },
        "outputId": "4b2ea322-9eb6-4db0-b225-12084ad703cd"
      },
      "source": [
        "df_bio.head()"
      ],
      "execution_count": null,
      "outputs": [
        {
          "output_type": "execute_result",
          "data": {
            "text/html": [
              "<div>\n",
              "<style scoped>\n",
              "    .dataframe tbody tr th:only-of-type {\n",
              "        vertical-align: middle;\n",
              "    }\n",
              "\n",
              "    .dataframe tbody tr th {\n",
              "        vertical-align: top;\n",
              "    }\n",
              "\n",
              "    .dataframe thead th {\n",
              "        text-align: right;\n",
              "    }\n",
              "</style>\n",
              "<table border=\"1\" class=\"dataframe\">\n",
              "  <thead>\n",
              "    <tr style=\"text-align: right;\">\n",
              "      <th></th>\n",
              "      <th>0</th>\n",
              "      <th>1</th>\n",
              "      <th>2</th>\n",
              "      <th>3</th>\n",
              "      <th>4</th>\n",
              "      <th>5</th>\n",
              "      <th>6</th>\n",
              "      <th>7</th>\n",
              "      <th>8</th>\n",
              "      <th>9</th>\n",
              "      <th>10</th>\n",
              "      <th>11</th>\n",
              "      <th>12</th>\n",
              "      <th>13</th>\n",
              "      <th>14</th>\n",
              "      <th>15</th>\n",
              "      <th>16</th>\n",
              "      <th>17</th>\n",
              "      <th>18</th>\n",
              "      <th>19</th>\n",
              "      <th>20</th>\n",
              "      <th>21</th>\n",
              "      <th>22</th>\n",
              "      <th>23</th>\n",
              "      <th>24</th>\n",
              "      <th>25</th>\n",
              "      <th>26</th>\n",
              "      <th>27</th>\n",
              "      <th>28</th>\n",
              "      <th>29</th>\n",
              "      <th>30</th>\n",
              "      <th>31</th>\n",
              "      <th>32</th>\n",
              "      <th>33</th>\n",
              "      <th>34</th>\n",
              "      <th>35</th>\n",
              "      <th>36</th>\n",
              "      <th>37</th>\n",
              "      <th>38</th>\n",
              "      <th>39</th>\n",
              "      <th>40</th>\n",
              "      <th>41</th>\n",
              "    </tr>\n",
              "  </thead>\n",
              "  <tbody>\n",
              "    <tr>\n",
              "      <th>0</th>\n",
              "      <td>3.919</td>\n",
              "      <td>2.6909</td>\n",
              "      <td>0</td>\n",
              "      <td>0</td>\n",
              "      <td>0</td>\n",
              "      <td>0</td>\n",
              "      <td>0</td>\n",
              "      <td>31.4</td>\n",
              "      <td>2</td>\n",
              "      <td>0</td>\n",
              "      <td>0</td>\n",
              "      <td>0.000</td>\n",
              "      <td>3.106</td>\n",
              "      <td>2.550</td>\n",
              "      <td>9.002</td>\n",
              "      <td>0</td>\n",
              "      <td>0.960</td>\n",
              "      <td>1.142</td>\n",
              "      <td>0</td>\n",
              "      <td>0</td>\n",
              "      <td>0</td>\n",
              "      <td>1.201</td>\n",
              "      <td>0</td>\n",
              "      <td>0</td>\n",
              "      <td>0</td>\n",
              "      <td>0</td>\n",
              "      <td>1.932</td>\n",
              "      <td>0.011</td>\n",
              "      <td>0</td>\n",
              "      <td>0.000</td>\n",
              "      <td>4.489</td>\n",
              "      <td>0</td>\n",
              "      <td>0</td>\n",
              "      <td>0</td>\n",
              "      <td>0</td>\n",
              "      <td>2.949</td>\n",
              "      <td>1.591</td>\n",
              "      <td>0</td>\n",
              "      <td>7.253</td>\n",
              "      <td>0</td>\n",
              "      <td>0</td>\n",
              "      <td>RB</td>\n",
              "    </tr>\n",
              "    <tr>\n",
              "      <th>1</th>\n",
              "      <td>4.170</td>\n",
              "      <td>2.1144</td>\n",
              "      <td>0</td>\n",
              "      <td>0</td>\n",
              "      <td>0</td>\n",
              "      <td>0</td>\n",
              "      <td>0</td>\n",
              "      <td>30.8</td>\n",
              "      <td>1</td>\n",
              "      <td>1</td>\n",
              "      <td>0</td>\n",
              "      <td>0.000</td>\n",
              "      <td>2.461</td>\n",
              "      <td>1.393</td>\n",
              "      <td>8.723</td>\n",
              "      <td>1</td>\n",
              "      <td>0.989</td>\n",
              "      <td>1.144</td>\n",
              "      <td>0</td>\n",
              "      <td>0</td>\n",
              "      <td>0</td>\n",
              "      <td>1.104</td>\n",
              "      <td>1</td>\n",
              "      <td>0</td>\n",
              "      <td>0</td>\n",
              "      <td>0</td>\n",
              "      <td>2.214</td>\n",
              "      <td>-0.204</td>\n",
              "      <td>0</td>\n",
              "      <td>0.000</td>\n",
              "      <td>1.542</td>\n",
              "      <td>0</td>\n",
              "      <td>0</td>\n",
              "      <td>0</td>\n",
              "      <td>0</td>\n",
              "      <td>3.315</td>\n",
              "      <td>1.967</td>\n",
              "      <td>0</td>\n",
              "      <td>7.257</td>\n",
              "      <td>0</td>\n",
              "      <td>0</td>\n",
              "      <td>RB</td>\n",
              "    </tr>\n",
              "    <tr>\n",
              "      <th>2</th>\n",
              "      <td>3.932</td>\n",
              "      <td>3.2512</td>\n",
              "      <td>0</td>\n",
              "      <td>0</td>\n",
              "      <td>0</td>\n",
              "      <td>0</td>\n",
              "      <td>0</td>\n",
              "      <td>26.7</td>\n",
              "      <td>2</td>\n",
              "      <td>4</td>\n",
              "      <td>0</td>\n",
              "      <td>0.000</td>\n",
              "      <td>3.279</td>\n",
              "      <td>2.585</td>\n",
              "      <td>9.110</td>\n",
              "      <td>0</td>\n",
              "      <td>1.009</td>\n",
              "      <td>1.152</td>\n",
              "      <td>0</td>\n",
              "      <td>0</td>\n",
              "      <td>0</td>\n",
              "      <td>1.092</td>\n",
              "      <td>0</td>\n",
              "      <td>0</td>\n",
              "      <td>0</td>\n",
              "      <td>0</td>\n",
              "      <td>1.942</td>\n",
              "      <td>-0.008</td>\n",
              "      <td>0</td>\n",
              "      <td>0.000</td>\n",
              "      <td>4.891</td>\n",
              "      <td>0</td>\n",
              "      <td>0</td>\n",
              "      <td>0</td>\n",
              "      <td>1</td>\n",
              "      <td>3.076</td>\n",
              "      <td>2.417</td>\n",
              "      <td>0</td>\n",
              "      <td>7.601</td>\n",
              "      <td>0</td>\n",
              "      <td>0</td>\n",
              "      <td>RB</td>\n",
              "    </tr>\n",
              "    <tr>\n",
              "      <th>3</th>\n",
              "      <td>3.000</td>\n",
              "      <td>2.7098</td>\n",
              "      <td>0</td>\n",
              "      <td>0</td>\n",
              "      <td>0</td>\n",
              "      <td>0</td>\n",
              "      <td>0</td>\n",
              "      <td>20.0</td>\n",
              "      <td>0</td>\n",
              "      <td>2</td>\n",
              "      <td>0</td>\n",
              "      <td>0.000</td>\n",
              "      <td>2.100</td>\n",
              "      <td>0.918</td>\n",
              "      <td>6.594</td>\n",
              "      <td>0</td>\n",
              "      <td>1.108</td>\n",
              "      <td>1.167</td>\n",
              "      <td>0</td>\n",
              "      <td>0</td>\n",
              "      <td>0</td>\n",
              "      <td>1.024</td>\n",
              "      <td>0</td>\n",
              "      <td>0</td>\n",
              "      <td>0</td>\n",
              "      <td>0</td>\n",
              "      <td>1.414</td>\n",
              "      <td>1.073</td>\n",
              "      <td>0</td>\n",
              "      <td>8.361</td>\n",
              "      <td>1.333</td>\n",
              "      <td>0</td>\n",
              "      <td>0</td>\n",
              "      <td>0</td>\n",
              "      <td>1</td>\n",
              "      <td>3.046</td>\n",
              "      <td>5.000</td>\n",
              "      <td>0</td>\n",
              "      <td>6.690</td>\n",
              "      <td>0</td>\n",
              "      <td>0</td>\n",
              "      <td>RB</td>\n",
              "    </tr>\n",
              "    <tr>\n",
              "      <th>4</th>\n",
              "      <td>4.236</td>\n",
              "      <td>3.3944</td>\n",
              "      <td>0</td>\n",
              "      <td>0</td>\n",
              "      <td>0</td>\n",
              "      <td>0</td>\n",
              "      <td>0</td>\n",
              "      <td>29.4</td>\n",
              "      <td>2</td>\n",
              "      <td>4</td>\n",
              "      <td>0</td>\n",
              "      <td>-0.271</td>\n",
              "      <td>3.449</td>\n",
              "      <td>2.753</td>\n",
              "      <td>9.528</td>\n",
              "      <td>2</td>\n",
              "      <td>1.004</td>\n",
              "      <td>1.147</td>\n",
              "      <td>0</td>\n",
              "      <td>0</td>\n",
              "      <td>0</td>\n",
              "      <td>1.137</td>\n",
              "      <td>0</td>\n",
              "      <td>0</td>\n",
              "      <td>0</td>\n",
              "      <td>0</td>\n",
              "      <td>1.985</td>\n",
              "      <td>-0.002</td>\n",
              "      <td>0</td>\n",
              "      <td>10.348</td>\n",
              "      <td>5.588</td>\n",
              "      <td>0</td>\n",
              "      <td>0</td>\n",
              "      <td>0</td>\n",
              "      <td>0</td>\n",
              "      <td>3.351</td>\n",
              "      <td>2.405</td>\n",
              "      <td>0</td>\n",
              "      <td>8.003</td>\n",
              "      <td>0</td>\n",
              "      <td>0</td>\n",
              "      <td>RB</td>\n",
              "    </tr>\n",
              "  </tbody>\n",
              "</table>\n",
              "</div>"
            ],
            "text/plain": [
              "      0       1   2   3   4   5   6   ...     35     36  37     38  39  40  41\n",
              "0  3.919  2.6909   0   0   0   0   0  ...  2.949  1.591   0  7.253   0   0  RB\n",
              "1  4.170  2.1144   0   0   0   0   0  ...  3.315  1.967   0  7.257   0   0  RB\n",
              "2  3.932  3.2512   0   0   0   0   0  ...  3.076  2.417   0  7.601   0   0  RB\n",
              "3  3.000  2.7098   0   0   0   0   0  ...  3.046  5.000   0  6.690   0   0  RB\n",
              "4  4.236  3.3944   0   0   0   0   0  ...  3.351  2.405   0  8.003   0   0  RB\n",
              "\n",
              "[5 rows x 42 columns]"
            ]
          },
          "metadata": {
            "tags": []
          },
          "execution_count": 17
        }
      ]
    },
    {
      "cell_type": "code",
      "metadata": {
        "id": "bmeqFTQZ9cDh",
        "colab_type": "code",
        "colab": {}
      },
      "source": [
        "#Assign values for target labels of features\n",
        "d = {'RB': 1, 'NRB': 0}"
      ],
      "execution_count": 7,
      "outputs": []
    },
    {
      "cell_type": "code",
      "metadata": {
        "id": "veFs4kf79cDw",
        "colab_type": "code",
        "colab": {}
      },
      "source": [
        "df_bio['bio_class']=df_bio.iloc[:,-1].map(d)"
      ],
      "execution_count": null,
      "outputs": []
    },
    {
      "cell_type": "code",
      "metadata": {
        "id": "3I3msu3cHn4z",
        "colab_type": "code",
        "colab": {}
      },
      "source": [
        "df_bio.drop(df_bio.columns[41],axis=1,inplace=True)"
      ],
      "execution_count": null,
      "outputs": []
    },
    {
      "cell_type": "code",
      "metadata": {
        "id": "o9SbNQBD54zB",
        "colab_type": "code",
        "colab": {}
      },
      "source": [
        "#Install dependencies for TPOT Classifier"
      ],
      "execution_count": 8,
      "outputs": []
    },
    {
      "cell_type": "code",
      "metadata": {
        "id": "F9si_QtB9cD7",
        "colab_type": "code",
        "colab": {
          "base_uri": "https://localhost:8080/",
          "height": 260
        },
        "outputId": "becc8726-5894-4eb7-95bf-2150c4208105"
      },
      "source": [
        "!pip install deap update_checker tqdm\n"
      ],
      "execution_count": null,
      "outputs": [
        {
          "output_type": "stream",
          "text": [
            "Collecting deap\n",
            "\u001b[?25l  Downloading https://files.pythonhosted.org/packages/0a/eb/2bd0a32e3ce757fb26264765abbaedd6d4d3640d90219a513aeabd08ee2b/deap-1.3.1-cp36-cp36m-manylinux2010_x86_64.whl (157kB)\n",
            "\r\u001b[K     |██                              | 10kB 16.3MB/s eta 0:00:01\r\u001b[K     |████▏                           | 20kB 2.1MB/s eta 0:00:01\r\u001b[K     |██████▎                         | 30kB 2.8MB/s eta 0:00:01\r\u001b[K     |████████▍                       | 40kB 3.1MB/s eta 0:00:01\r\u001b[K     |██████████▍                     | 51kB 2.5MB/s eta 0:00:01\r\u001b[K     |████████████▌                   | 61kB 2.8MB/s eta 0:00:01\r\u001b[K     |██████████████▋                 | 71kB 3.1MB/s eta 0:00:01\r\u001b[K     |████████████████▊               | 81kB 3.3MB/s eta 0:00:01\r\u001b[K     |██████████████████▊             | 92kB 3.6MB/s eta 0:00:01\r\u001b[K     |████████████████████▉           | 102kB 3.4MB/s eta 0:00:01\r\u001b[K     |███████████████████████         | 112kB 3.4MB/s eta 0:00:01\r\u001b[K     |█████████████████████████       | 122kB 3.4MB/s eta 0:00:01\r\u001b[K     |███████████████████████████▏    | 133kB 3.4MB/s eta 0:00:01\r\u001b[K     |█████████████████████████████▏  | 143kB 3.4MB/s eta 0:00:01\r\u001b[K     |███████████████████████████████▎| 153kB 3.4MB/s eta 0:00:01\r\u001b[K     |████████████████████████████████| 163kB 3.4MB/s \n",
            "\u001b[?25hCollecting update_checker\n",
            "  Downloading https://files.pythonhosted.org/packages/d6/c3/aaf8a162df8e8f9d321237c7c0e63aff95b42d19f1758f96606e3cabb245/update_checker-0.17-py2.py3-none-any.whl\n",
            "Requirement already satisfied: tqdm in /usr/local/lib/python3.6/dist-packages (4.41.1)\n",
            "Requirement already satisfied: numpy in /usr/local/lib/python3.6/dist-packages (from deap) (1.18.5)\n",
            "Requirement already satisfied: requests>=2.3.0 in /usr/local/lib/python3.6/dist-packages (from update_checker) (2.23.0)\n",
            "Requirement already satisfied: idna<3,>=2.5 in /usr/local/lib/python3.6/dist-packages (from requests>=2.3.0->update_checker) (2.9)\n",
            "Requirement already satisfied: urllib3!=1.25.0,!=1.25.1,<1.26,>=1.21.1 in /usr/local/lib/python3.6/dist-packages (from requests>=2.3.0->update_checker) (1.24.3)\n",
            "Requirement already satisfied: certifi>=2017.4.17 in /usr/local/lib/python3.6/dist-packages (from requests>=2.3.0->update_checker) (2020.4.5.2)\n",
            "Requirement already satisfied: chardet<4,>=3.0.2 in /usr/local/lib/python3.6/dist-packages (from requests>=2.3.0->update_checker) (3.0.4)\n",
            "Installing collected packages: deap, update-checker\n",
            "Successfully installed deap-1.3.1 update-checker-0.17\n"
          ],
          "name": "stdout"
        }
      ]
    },
    {
      "cell_type": "code",
      "metadata": {
        "id": "zm3JgA8TKku-",
        "colab_type": "code",
        "colab": {
          "base_uri": "https://localhost:8080/",
          "height": 503
        },
        "outputId": "699ca916-c05c-4679-a1ea-b5202eaa3a80"
      },
      "source": [
        "!pip install tpot"
      ],
      "execution_count": null,
      "outputs": [
        {
          "output_type": "stream",
          "text": [
            "Collecting tpot\n",
            "\u001b[?25l  Downloading https://files.pythonhosted.org/packages/14/5e/cb87b0257033a7a396e533a634079ee151a239d180efe2a8b1d2e3584d23/TPOT-0.11.5-py3-none-any.whl (82kB)\n",
            "\r\u001b[K     |████                            | 10kB 16.4MB/s eta 0:00:01\r\u001b[K     |████████                        | 20kB 2.1MB/s eta 0:00:01\r\u001b[K     |████████████                    | 30kB 2.8MB/s eta 0:00:01\r\u001b[K     |████████████████                | 40kB 3.1MB/s eta 0:00:01\r\u001b[K     |████████████████████            | 51kB 2.5MB/s eta 0:00:01\r\u001b[K     |████████████████████████        | 61kB 2.8MB/s eta 0:00:01\r\u001b[K     |████████████████████████████    | 71kB 3.0MB/s eta 0:00:01\r\u001b[K     |███████████████████████████████▉| 81kB 3.4MB/s eta 0:00:01\r\u001b[K     |████████████████████████████████| 92kB 2.6MB/s \n",
            "\u001b[?25hRequirement already satisfied: update-checker>=0.16 in /usr/local/lib/python3.6/dist-packages (from tpot) (0.17)\n",
            "Requirement already satisfied: scipy>=1.3.1 in /usr/local/lib/python3.6/dist-packages (from tpot) (1.4.1)\n",
            "Collecting stopit>=1.1.1\n",
            "  Downloading https://files.pythonhosted.org/packages/35/58/e8bb0b0fb05baf07bbac1450c447d753da65f9701f551dca79823ce15d50/stopit-1.1.2.tar.gz\n",
            "Requirement already satisfied: deap>=1.2 in /usr/local/lib/python3.6/dist-packages (from tpot) (1.3.1)\n",
            "Requirement already satisfied: pandas>=0.24.2 in /usr/local/lib/python3.6/dist-packages (from tpot) (1.0.4)\n",
            "Requirement already satisfied: joblib>=0.13.2 in /usr/local/lib/python3.6/dist-packages (from tpot) (0.15.1)\n",
            "Requirement already satisfied: scikit-learn>=0.22.0 in /usr/local/lib/python3.6/dist-packages (from tpot) (0.22.2.post1)\n",
            "Requirement already satisfied: tqdm>=4.36.1 in /usr/local/lib/python3.6/dist-packages (from tpot) (4.41.1)\n",
            "Requirement already satisfied: numpy>=1.16.3 in /usr/local/lib/python3.6/dist-packages (from tpot) (1.18.5)\n",
            "Requirement already satisfied: requests>=2.3.0 in /usr/local/lib/python3.6/dist-packages (from update-checker>=0.16->tpot) (2.23.0)\n",
            "Requirement already satisfied: pytz>=2017.2 in /usr/local/lib/python3.6/dist-packages (from pandas>=0.24.2->tpot) (2018.9)\n",
            "Requirement already satisfied: python-dateutil>=2.6.1 in /usr/local/lib/python3.6/dist-packages (from pandas>=0.24.2->tpot) (2.8.1)\n",
            "Requirement already satisfied: chardet<4,>=3.0.2 in /usr/local/lib/python3.6/dist-packages (from requests>=2.3.0->update-checker>=0.16->tpot) (3.0.4)\n",
            "Requirement already satisfied: urllib3!=1.25.0,!=1.25.1,<1.26,>=1.21.1 in /usr/local/lib/python3.6/dist-packages (from requests>=2.3.0->update-checker>=0.16->tpot) (1.24.3)\n",
            "Requirement already satisfied: certifi>=2017.4.17 in /usr/local/lib/python3.6/dist-packages (from requests>=2.3.0->update-checker>=0.16->tpot) (2020.4.5.2)\n",
            "Requirement already satisfied: idna<3,>=2.5 in /usr/local/lib/python3.6/dist-packages (from requests>=2.3.0->update-checker>=0.16->tpot) (2.9)\n",
            "Requirement already satisfied: six>=1.5 in /usr/local/lib/python3.6/dist-packages (from python-dateutil>=2.6.1->pandas>=0.24.2->tpot) (1.12.0)\n",
            "Building wheels for collected packages: stopit\n",
            "  Building wheel for stopit (setup.py) ... \u001b[?25l\u001b[?25hdone\n",
            "  Created wheel for stopit: filename=stopit-1.1.2-cp36-none-any.whl size=11956 sha256=ed779c5fa2c9fefc7e77136a14768f6da9acf421ec361a6a7c7caf72ae0f37ab\n",
            "  Stored in directory: /root/.cache/pip/wheels/3c/85/2b/2580190404636bfc63e8de3dff629c03bb795021e1983a6cc7\n",
            "Successfully built stopit\n",
            "Installing collected packages: stopit, tpot\n",
            "Successfully installed stopit-1.1.2 tpot-0.11.5\n"
          ],
          "name": "stdout"
        }
      ]
    },
    {
      "cell_type": "code",
      "metadata": {
        "id": "ga9et5CAKvMQ",
        "colab_type": "code",
        "colab": {}
      },
      "source": [
        "import h2o\n",
        "\n",
        "import matplotlib.pyplot as plt\n",
        "from scipy import stats\n",
        "\n",
        "\n",
        "%matplotlib inline\n"
      ],
      "execution_count": null,
      "outputs": []
    },
    {
      "cell_type": "code",
      "metadata": {
        "id": "yT-cedAL6R3g",
        "colab_type": "code",
        "colab": {}
      },
      "source": [
        "# Verify that the H2O cluster can run on the JVM and tunnel into H2O flow at IP address"
      ],
      "execution_count": 11,
      "outputs": []
    },
    {
      "cell_type": "code",
      "metadata": {
        "id": "a-3AEFIHKxhJ",
        "colab_type": "code",
        "colab": {
          "base_uri": "https://localhost:8080/",
          "height": 537
        },
        "outputId": "6597dde6-4897-4f72-9566-8cf2facf10ef"
      },
      "source": [
        "h2o.init()"
      ],
      "execution_count": null,
      "outputs": [
        {
          "output_type": "stream",
          "text": [
            "Checking whether there is an H2O instance running at http://localhost:54321 ..... not found.\n",
            "Attempting to start a local H2O server...\n",
            "  Java Version: openjdk version \"11.0.7\" 2020-04-14; OpenJDK Runtime Environment (build 11.0.7+10-post-Ubuntu-2ubuntu218.04); OpenJDK 64-Bit Server VM (build 11.0.7+10-post-Ubuntu-2ubuntu218.04, mixed mode)\n",
            "  Starting server from /usr/local/lib/python3.6/dist-packages/h2o/backend/bin/h2o.jar\n",
            "  Ice root: /tmp/tmp1jyy0h3n\n",
            "  JVM stdout: /tmp/tmp1jyy0h3n/h2o_unknownUser_started_from_python.out\n",
            "  JVM stderr: /tmp/tmp1jyy0h3n/h2o_unknownUser_started_from_python.err\n",
            "  Server is running at http://127.0.0.1:54321\n",
            "Connecting to H2O server at http://127.0.0.1:54321 ... successful.\n"
          ],
          "name": "stdout"
        },
        {
          "output_type": "display_data",
          "data": {
            "text/html": [
              "<div style=\"overflow:auto\"><table style=\"width:50%\"><tr><td>H2O_cluster_uptime:</td>\n",
              "<td>02 secs</td></tr>\n",
              "<tr><td>H2O_cluster_timezone:</td>\n",
              "<td>Etc/UTC</td></tr>\n",
              "<tr><td>H2O_data_parsing_timezone:</td>\n",
              "<td>UTC</td></tr>\n",
              "<tr><td>H2O_cluster_version:</td>\n",
              "<td>3.30.0.5</td></tr>\n",
              "<tr><td>H2O_cluster_version_age:</td>\n",
              "<td>1 day </td></tr>\n",
              "<tr><td>H2O_cluster_name:</td>\n",
              "<td>H2O_from_python_unknownUser_st43hc</td></tr>\n",
              "<tr><td>H2O_cluster_total_nodes:</td>\n",
              "<td>1</td></tr>\n",
              "<tr><td>H2O_cluster_free_memory:</td>\n",
              "<td>3.180 Gb</td></tr>\n",
              "<tr><td>H2O_cluster_total_cores:</td>\n",
              "<td>2</td></tr>\n",
              "<tr><td>H2O_cluster_allowed_cores:</td>\n",
              "<td>2</td></tr>\n",
              "<tr><td>H2O_cluster_status:</td>\n",
              "<td>accepting new members, healthy</td></tr>\n",
              "<tr><td>H2O_connection_url:</td>\n",
              "<td>http://127.0.0.1:54321</td></tr>\n",
              "<tr><td>H2O_connection_proxy:</td>\n",
              "<td>{\"http\": null, \"https\": null}</td></tr>\n",
              "<tr><td>H2O_internal_security:</td>\n",
              "<td>False</td></tr>\n",
              "<tr><td>H2O_API_Extensions:</td>\n",
              "<td>Amazon S3, XGBoost, Algos, AutoML, Core V3, TargetEncoder, Core V4</td></tr>\n",
              "<tr><td>Python_version:</td>\n",
              "<td>3.6.9 final</td></tr></table></div>"
            ],
            "text/plain": [
              "--------------------------  ------------------------------------------------------------------\n",
              "H2O_cluster_uptime:         02 secs\n",
              "H2O_cluster_timezone:       Etc/UTC\n",
              "H2O_data_parsing_timezone:  UTC\n",
              "H2O_cluster_version:        3.30.0.5\n",
              "H2O_cluster_version_age:    1 day\n",
              "H2O_cluster_name:           H2O_from_python_unknownUser_st43hc\n",
              "H2O_cluster_total_nodes:    1\n",
              "H2O_cluster_free_memory:    3.180 Gb\n",
              "H2O_cluster_total_cores:    2\n",
              "H2O_cluster_allowed_cores:  2\n",
              "H2O_cluster_status:         accepting new members, healthy\n",
              "H2O_connection_url:         http://127.0.0.1:54321\n",
              "H2O_connection_proxy:       {\"http\": null, \"https\": null}\n",
              "H2O_internal_security:      False\n",
              "H2O_API_Extensions:         Amazon S3, XGBoost, Algos, AutoML, Core V3, TargetEncoder, Core V4\n",
              "Python_version:             3.6.9 final\n",
              "--------------------------  ------------------------------------------------------------------"
            ]
          },
          "metadata": {
            "tags": []
          }
        }
      ]
    },
    {
      "cell_type": "code",
      "metadata": {
        "id": "qZlSoGbiMfH9",
        "colab_type": "code",
        "colab": {
          "base_uri": "https://localhost:8080/",
          "height": 17
        },
        "outputId": "415f60a3-c7ae-4338-f23e-a1e967b68750"
      },
      "source": [
        "!npm install -g localtunnel -qq > /dev/null"
      ],
      "execution_count": null,
      "outputs": [
        {
          "output_type": "stream",
          "text": [
            "\u001b[?25h"
          ],
          "name": "stdout"
        }
      ]
    },
    {
      "cell_type": "code",
      "metadata": {
        "id": "qCY5cesRMhjD",
        "colab_type": "code",
        "colab": {}
      },
      "source": [
        "get_ipython().system_raw('lt --port 54321 >> url.txt 2>&1 &')"
      ],
      "execution_count": null,
      "outputs": []
    },
    {
      "cell_type": "code",
      "metadata": {
        "id": "275XSjtNMo2E",
        "colab_type": "code",
        "colab": {}
      },
      "source": [
        "!cat url.txt"
      ],
      "execution_count": null,
      "outputs": []
    },
    {
      "cell_type": "code",
      "metadata": {
        "id": "XN35IQHv9cEF",
        "colab_type": "code",
        "colab": {
          "base_uri": "https://localhost:8080/",
          "height": 868
        },
        "outputId": "da01a0a0-b2cf-4cea-b0f9-f2f018c6791a"
      },
      "source": [
        "df_bio.info()"
      ],
      "execution_count": null,
      "outputs": [
        {
          "output_type": "stream",
          "text": [
            "<class 'pandas.core.frame.DataFrame'>\n",
            "RangeIndex: 1055 entries, 0 to 1054\n",
            "Data columns (total 42 columns):\n",
            " #   Column     Non-Null Count  Dtype  \n",
            "---  ------     --------------  -----  \n",
            " 0   0          1055 non-null   float64\n",
            " 1   1          1055 non-null   float64\n",
            " 2   2          1055 non-null   int64  \n",
            " 3   3          1055 non-null   int64  \n",
            " 4   4          1055 non-null   int64  \n",
            " 5   5          1055 non-null   int64  \n",
            " 6   6          1055 non-null   int64  \n",
            " 7   7          1055 non-null   float64\n",
            " 8   8          1055 non-null   int64  \n",
            " 9   9          1055 non-null   int64  \n",
            " 10  10         1055 non-null   int64  \n",
            " 11  11         1055 non-null   float64\n",
            " 12  12         1055 non-null   float64\n",
            " 13  13         1055 non-null   float64\n",
            " 14  14         1055 non-null   float64\n",
            " 15  15         1055 non-null   int64  \n",
            " 16  16         1055 non-null   float64\n",
            " 17  17         1055 non-null   float64\n",
            " 18  18         1055 non-null   int64  \n",
            " 19  19         1055 non-null   int64  \n",
            " 20  20         1055 non-null   int64  \n",
            " 21  21         1055 non-null   float64\n",
            " 22  22         1055 non-null   int64  \n",
            " 23  23         1055 non-null   int64  \n",
            " 24  24         1055 non-null   int64  \n",
            " 25  25         1055 non-null   int64  \n",
            " 26  26         1055 non-null   float64\n",
            " 27  27         1055 non-null   float64\n",
            " 28  28         1055 non-null   int64  \n",
            " 29  29         1055 non-null   float64\n",
            " 30  30         1055 non-null   float64\n",
            " 31  31         1055 non-null   int64  \n",
            " 32  32         1055 non-null   int64  \n",
            " 33  33         1055 non-null   int64  \n",
            " 34  34         1055 non-null   int64  \n",
            " 35  35         1055 non-null   float64\n",
            " 36  36         1055 non-null   float64\n",
            " 37  37         1055 non-null   int64  \n",
            " 38  38         1055 non-null   float64\n",
            " 39  39         1055 non-null   int64  \n",
            " 40  40         1055 non-null   int64  \n",
            " 41  bio_class  1055 non-null   int64  \n",
            "dtypes: float64(17), int64(25)\n",
            "memory usage: 346.3 KB\n"
          ],
          "name": "stdout"
        }
      ]
    },
    {
      "cell_type": "code",
      "metadata": {
        "id": "mJ61NQ3s9cEQ",
        "colab_type": "code",
        "colab": {}
      },
      "source": [
        "#Assign features from QSAR values\n",
        "X = np.array(df_bio.iloc[:, 0:41])\n",
        "y=np.array(df_bio.iloc[:,-1])"
      ],
      "execution_count": null,
      "outputs": []
    },
    {
      "cell_type": "code",
      "metadata": {
        "id": "qMeAwL3V9cEY",
        "colab_type": "code",
        "colab": {}
      },
      "source": [
        "#Normalize & scale features\n",
        "from sklearn import preprocessing as pre\n",
        "scaler = pre.StandardScaler().fit(X)\n",
        "X_scaled = scaler.transform(X)\n",
        "\n"
      ],
      "execution_count": null,
      "outputs": []
    },
    {
      "cell_type": "code",
      "metadata": {
        "id": "prb_Lwfu9cEl",
        "colab_type": "code",
        "colab": {}
      },
      "source": [
        "from tpot import TPOTClassifier\n",
        "\n",
        "# split data into train and test sets\n",
        "seed = 7\n",
        "test_size = 0.33\n"
      ],
      "execution_count": null,
      "outputs": []
    },
    {
      "cell_type": "code",
      "metadata": {
        "id": "4j6tAKseXlPi",
        "colab_type": "code",
        "colab": {}
      },
      "source": [
        "from sklearn.model_selection import train_test_split\n",
        "\n",
        "X_train, X_test, y_train, y_test = train_test_split(X_scaled, y, test_size=test_size, random_state=seed)\n",
        "\n",
        "pipeline_optimizer = TPOTClassifier(generations=5, population_size=50, random_state=seed, verbosity=2)\n"
      ],
      "execution_count": null,
      "outputs": []
    },
    {
      "cell_type": "code",
      "metadata": {
        "id": "UaOMRrP1aDwd",
        "colab_type": "code",
        "colab": {
          "base_uri": "https://localhost:8080/",
          "height": 278,
          "referenced_widgets": [
            "e543429f13174e70a8bece6f48587b9d",
            "edae34c402334949932512111c888e13",
            "b606bba74a6d4c6bbd0f122e32f6252f",
            "326e492709494db99a7a5fd172284d4f",
            "f7823fa57fc44e7294fa541a1e811cd3",
            "c2baf20d687f4215b2cf08b4717bbe3d",
            "2669a58bdf5d4a629f74c6abca72aac1",
            "3c46aac3a3a544d6b36d9051c7ffbdb8"
          ]
        },
        "outputId": "6d4774d9-8ec8-46c6-d8e6-793dd146d99c"
      },
      "source": [
        "pipeline_optimizer.fit(X_train, y_train)\n"
      ],
      "execution_count": null,
      "outputs": [
        {
          "output_type": "display_data",
          "data": {
            "application/vnd.jupyter.widget-view+json": {
              "model_id": "e543429f13174e70a8bece6f48587b9d",
              "version_minor": 0,
              "version_major": 2
            },
            "text/plain": [
              "HBox(children=(FloatProgress(value=0.0, description='Optimization Progress', max=300.0, style=ProgressStyle(de…"
            ]
          },
          "metadata": {
            "tags": []
          }
        },
        {
          "output_type": "stream",
          "text": [
            "\n",
            "Generation 1 - Current best internal CV score: 0.8739286784537009\n",
            "Generation 2 - Current best internal CV score: 0.8739286784537009\n",
            "Generation 3 - Current best internal CV score: 0.879602437318949\n",
            "Generation 4 - Current best internal CV score: 0.879602437318949\n",
            "\n",
            "Best pipeline: MLPClassifier(Normalizer(input_matrix, norm=max), alpha=0.0001, learning_rate_init=0.001)\n"
          ],
          "name": "stdout"
        },
        {
          "output_type": "execute_result",
          "data": {
            "text/plain": [
              "TPOTClassifier(config_dict=None, crossover_rate=0.1, cv=5,\n",
              "               disable_update_check=False, early_stop=None, generations=5,\n",
              "               log_file=<colorama.ansitowin32.StreamWrapper object at 0x7fac97afc6d8>,\n",
              "               max_eval_time_mins=5, max_time_mins=None, memory=None,\n",
              "               mutation_rate=0.9, n_jobs=1, offspring_size=None,\n",
              "               periodic_checkpoint_folder=None, population_size=50,\n",
              "               random_state=7, scoring=None, subsample=1.0, template=None,\n",
              "               use_dask=False, verbosity=2, warm_start=False)"
            ]
          },
          "metadata": {
            "tags": []
          },
          "execution_count": 58
        }
      ]
    },
    {
      "cell_type": "code",
      "metadata": {
        "id": "6ALVxcvKdRjO",
        "colab_type": "code",
        "colab": {
          "base_uri": "https://localhost:8080/",
          "height": 34
        },
        "outputId": "afb04413-bd49-47a2-c7b9-b9b816b45f93"
      },
      "source": [
        "print(pipeline_optimizer.score(X_test, y_test))"
      ],
      "execution_count": null,
      "outputs": [
        {
          "output_type": "stream",
          "text": [
            "0.8911174785100286\n"
          ],
          "name": "stdout"
        }
      ]
    },
    {
      "cell_type": "code",
      "metadata": {
        "id": "ETHLwmSR9cEx",
        "colab_type": "code",
        "colab": {}
      },
      "source": [
        "pipeline_optimizer.export('tpot_exported_pipeline.py')\n"
      ],
      "execution_count": null,
      "outputs": []
    },
    {
      "cell_type": "code",
      "metadata": {
        "id": "f3GhYngzeofh",
        "colab_type": "code",
        "colab": {
          "base_uri": "https://localhost:8080/",
          "height": 34
        },
        "outputId": "eac4a249-903e-475f-cb84-ad271f2765b1"
      },
      "source": [
        "!ls"
      ],
      "execution_count": null,
      "outputs": [
        {
          "output_type": "stream",
          "text": [
            "biodeg.csv  sample_data  tpot_exported_pipeline.py  url.txt\n"
          ],
          "name": "stdout"
        }
      ]
    },
    {
      "cell_type": "code",
      "metadata": {
        "id": "-yX1Q3y-fHcF",
        "colab_type": "code",
        "colab": {}
      },
      "source": [
        "#Check the ML predict script for the exported tpot model to use for scoring. "
      ],
      "execution_count": 10,
      "outputs": []
    },
    {
      "cell_type": "code",
      "metadata": {
        "id": "XEi7An3je74q",
        "colab_type": "code",
        "colab": {
          "base_uri": "https://localhost:8080/",
          "height": 434
        },
        "outputId": "bf6fbf03-093c-4c21-d9ea-f6240b5a9f36"
      },
      "source": [
        "!cat tpot_exported_pipeline.py"
      ],
      "execution_count": null,
      "outputs": [
        {
          "output_type": "stream",
          "text": [
            "import numpy as np\n",
            "import pandas as pd\n",
            "from sklearn.model_selection import train_test_split\n",
            "from sklearn.neural_network import MLPClassifier\n",
            "from sklearn.pipeline import make_pipeline\n",
            "from sklearn.preprocessing import Normalizer\n",
            "from tpot.export_utils import set_param_recursive\n",
            "\n",
            "# NOTE: Make sure that the outcome column is labeled 'target' in the data file\n",
            "tpot_data = pd.read_csv('PATH/TO/DATA/FILE', sep='COLUMN_SEPARATOR', dtype=np.float64)\n",
            "features = tpot_data.drop('target', axis=1)\n",
            "training_features, testing_features, training_target, testing_target = \\\n",
            "            train_test_split(features, tpot_data['target'], random_state=7)\n",
            "\n",
            "# Average CV score on the training set was: 0.879602437318949\n",
            "exported_pipeline = make_pipeline(\n",
            "    Normalizer(norm=\"max\"),\n",
            "    MLPClassifier(alpha=0.0001, learning_rate_init=0.001)\n",
            ")\n",
            "# Fix random state for all the steps in exported pipeline\n",
            "set_param_recursive(exported_pipeline.steps, 'random_state', 7)\n",
            "\n",
            "exported_pipeline.fit(training_features, training_target)\n",
            "results = exported_pipeline.predict(testing_features)\n"
          ],
          "name": "stdout"
        }
      ]
    },
    {
      "cell_type": "code",
      "metadata": {
        "id": "JdY8t-wpf7gm",
        "colab_type": "code",
        "colab": {}
      },
      "source": [
        ""
      ],
      "execution_count": null,
      "outputs": []
    },
    {
      "cell_type": "code",
      "metadata": {
        "id": "xJ5ZvWSO9cFB",
        "colab_type": "code",
        "colab": {}
      },
      "source": [
        "import h2o"
      ],
      "execution_count": null,
      "outputs": []
    },
    {
      "cell_type": "code",
      "metadata": {
        "id": "0Uhu7FNb9cFP",
        "colab_type": "code",
        "colab": {},
        "outputId": "8740a6b3-c8e8-4f9e-a005-a45e435a481d"
      },
      "source": [
        "### start the server\n",
        "h2o.init()"
      ],
      "execution_count": null,
      "outputs": [
        {
          "output_type": "stream",
          "text": [
            "Checking whether there is an H2O instance running at http://localhost:54321..... not found.\n",
            "Attempting to start a local H2O server...\n",
            "  Java Version: java version \"1.8.0_121\"; Java(TM) SE Runtime Environment (build 1.8.0_121-b13); Java HotSpot(TM) 64-Bit Server VM (build 25.121-b13, mixed mode)\n",
            "  Starting server from /anaconda3/lib/python3.6/site-packages/h2o/backend/bin/h2o.jar\n",
            "  Ice root: /var/folders/jt/k6ffvyf50bn1rq7tf69dz6j80000gn/T/tmppjxe05hf\n",
            "  JVM stdout: /var/folders/jt/k6ffvyf50bn1rq7tf69dz6j80000gn/T/tmppjxe05hf/h2o_mercal_started_from_python.out\n",
            "  JVM stderr: /var/folders/jt/k6ffvyf50bn1rq7tf69dz6j80000gn/T/tmppjxe05hf/h2o_mercal_started_from_python.err\n",
            "  Server is running at http://127.0.0.1:54321\n",
            "Connecting to H2O server at http://127.0.0.1:54321... successful.\n",
            "Warning: Your H2O cluster version is too old (7 months and 8 days)! Please download and install the latest version from http://h2o.ai/download/\n"
          ],
          "name": "stdout"
        },
        {
          "output_type": "display_data",
          "data": {
            "text/html": [
              "<div style=\"overflow:auto\"><table style=\"width:50%\"><tr><td>H2O cluster uptime:</td>\n",
              "<td>04 secs</td></tr>\n",
              "<tr><td>H2O cluster version:</td>\n",
              "<td>3.16.0.3</td></tr>\n",
              "<tr><td>H2O cluster version age:</td>\n",
              "<td>7 months and 8 days !!!</td></tr>\n",
              "<tr><td>H2O cluster name:</td>\n",
              "<td>H2O_from_python_mercal_ioennu</td></tr>\n",
              "<tr><td>H2O cluster total nodes:</td>\n",
              "<td>1</td></tr>\n",
              "<tr><td>H2O cluster free memory:</td>\n",
              "<td>910 Mb</td></tr>\n",
              "<tr><td>H2O cluster total cores:</td>\n",
              "<td>4</td></tr>\n",
              "<tr><td>H2O cluster allowed cores:</td>\n",
              "<td>4</td></tr>\n",
              "<tr><td>H2O cluster status:</td>\n",
              "<td>accepting new members, healthy</td></tr>\n",
              "<tr><td>H2O connection url:</td>\n",
              "<td>http://127.0.0.1:54321</td></tr>\n",
              "<tr><td>H2O connection proxy:</td>\n",
              "<td>None</td></tr>\n",
              "<tr><td>H2O internal security:</td>\n",
              "<td>False</td></tr>\n",
              "<tr><td>H2O API Extensions:</td>\n",
              "<td>XGBoost, Algos, AutoML, Core V3, Core V4</td></tr>\n",
              "<tr><td>Python version:</td>\n",
              "<td>3.6.2 final</td></tr></table></div>"
            ],
            "text/plain": [
              "--------------------------  ----------------------------------------\n",
              "H2O cluster uptime:         04 secs\n",
              "H2O cluster version:        3.16.0.3\n",
              "H2O cluster version age:    7 months and 8 days !!!\n",
              "H2O cluster name:           H2O_from_python_mercal_ioennu\n",
              "H2O cluster total nodes:    1\n",
              "H2O cluster free memory:    910 Mb\n",
              "H2O cluster total cores:    4\n",
              "H2O cluster allowed cores:  4\n",
              "H2O cluster status:         accepting new members, healthy\n",
              "H2O connection url:         http://127.0.0.1:54321\n",
              "H2O connection proxy:\n",
              "H2O internal security:      False\n",
              "H2O API Extensions:         XGBoost, Algos, AutoML, Core V3, Core V4\n",
              "Python version:             3.6.2 final\n",
              "--------------------------  ----------------------------------------"
            ]
          },
          "metadata": {
            "tags": []
          }
        }
      ]
    },
    {
      "cell_type": "code",
      "metadata": {
        "id": "4h9rI9eB9cFb",
        "colab_type": "code",
        "colab": {
          "base_uri": "https://localhost:8080/",
          "height": 34
        },
        "outputId": "318bd55c-eed7-4fa4-b28f-1dcf7ceab83f"
      },
      "source": [
        "#hf=h2o.H2OFrame(df_bio_b)\n",
        "hf=h2o.H2OFrame(df_bio)"
      ],
      "execution_count": null,
      "outputs": [
        {
          "output_type": "stream",
          "text": [
            "Parse progress: |█████████████████████████████████████████████████████████| 100%\n"
          ],
          "name": "stdout"
        }
      ]
    },
    {
      "cell_type": "code",
      "metadata": {
        "id": "Ml70wd129cFo",
        "colab_type": "code",
        "colab": {
          "base_uri": "https://localhost:8080/",
          "height": 493
        },
        "outputId": "b6a7e74e-ae28-4f87-d761-5c37643fe812"
      },
      "source": [
        "hf.describe()"
      ],
      "execution_count": null,
      "outputs": [
        {
          "output_type": "stream",
          "text": [
            "Rows:1055\n",
            "Cols:42\n",
            "\n",
            "\n"
          ],
          "name": "stdout"
        },
        {
          "output_type": "display_data",
          "data": {
            "text/html": [
              "<table>\n",
              "<thead>\n",
              "<tr><th>       </th><th>0                 </th><th>1                 </th><th>2                 </th><th>3                  </th><th>4                </th><th>5                  </th><th>6                 </th><th>7                </th><th>8                 </th><th>9                 </th><th>10                </th><th>11                  </th><th>12                </th><th>13                </th><th>14                </th><th>15               </th><th>16                  </th><th>17                  </th><th>18                  </th><th>19                 </th><th>20                  </th><th>21                 </th><th>22                </th><th>23                 </th><th>24                 </th><th>25                 </th><th>26                 </th><th>27                    </th><th>28                  </th><th>29                </th><th>30                </th><th>31                 </th><th>32                </th><th>33                </th><th>34                </th><th>35                </th><th>36                </th><th>37                </th><th>38                </th><th>39                  </th><th>40                </th><th>bio_class          </th></tr>\n",
              "</thead>\n",
              "<tbody>\n",
              "<tr><td>type   </td><td>real              </td><td>real              </td><td>int               </td><td>int                </td><td>int              </td><td>int                </td><td>int               </td><td>real             </td><td>int               </td><td>int               </td><td>int               </td><td>real                </td><td>real              </td><td>real              </td><td>real              </td><td>int              </td><td>real                </td><td>real                </td><td>int                 </td><td>int                </td><td>int                 </td><td>real               </td><td>int               </td><td>int                </td><td>int                </td><td>int                </td><td>real               </td><td>real                  </td><td>int                 </td><td>real              </td><td>real              </td><td>int                </td><td>int               </td><td>int               </td><td>int               </td><td>real              </td><td>real              </td><td>int               </td><td>real              </td><td>int                 </td><td>int               </td><td>int                </td></tr>\n",
              "<tr><td>mins   </td><td>2.0               </td><td>0.8039            </td><td>0.0               </td><td>0.0                </td><td>0.0              </td><td>0.0                </td><td>0.0               </td><td>0.0              </td><td>0.0               </td><td>0.0               </td><td>0.0               </td><td>-5.256              </td><td>1.544             </td><td>0.0               </td><td>4.1739999999999995</td><td>0.0              </td><td>0.957               </td><td>1.022               </td><td>0.0                 </td><td>0.0                </td><td>0.0                 </td><td>0.863              </td><td>0.0               </td><td>0.0                </td><td>0.0                </td><td>0.0                </td><td>1.0                </td><td>-1.099                </td><td>0.0                 </td><td>0.0               </td><td>0.444             </td><td>0.0                </td><td>0.0               </td><td>0.0               </td><td>0.0               </td><td>2.267             </td><td>1.467             </td><td>0.0               </td><td>4.917             </td><td>0.0                 </td><td>0.0               </td><td>0.0                </td></tr>\n",
              "<tr><td>mean   </td><td>4.782643601895735 </td><td>3.0695077725118507</td><td>0.7165876777251181</td><td>0.04265402843601896</td><td>0.980094786729859</td><td>0.29004739336492863</td><td>1.6464454976303295</td><td>37.05563981042649</td><td>1.3763033175355444</td><td>1.8037914691943144</td><td>1.4369668246445515</td><td>-0.19712890995260637</td><td>3.476843601895734 </td><td>1.3507156398104243</td><td>9.937381042654033 </td><td>3.630331753554505</td><td>1.0133023696682455  </td><td>1.1311061611374436  </td><td>0.008530805687203791</td><td>0.07393364928909954</td><td>0.029383886255924176</td><td>1.23872701421801   </td><td>1.4056872037914674</td><td>0.03981042654028436</td><td>0.14786729857819905</td><td>0.03127962085308057</td><td>2.2156407582938424 </td><td>-0.0012056872037914696</td><td>0.026540284360189573</td><td>8.780509952606621 </td><td>2.6683440758293817</td><td>0.12985781990521328</td><td>0.8834123222748823</td><td>1.2748815165876788</td><td>0.961137440758294 </td><td>3.9182398104265386</td><td>2.558417061611374 </td><td>0.686255924170617 </td><td>8.629491943127956 </td><td>0.051184834123222736</td><td>0.7232227488151657</td><td>0.33744075829383885</td></tr>\n",
              "<tr><td>maxs   </td><td>6.496             </td><td>9.1775            </td><td>12.0              </td><td>3.0                </td><td>36.0             </td><td>13.0               </td><td>18.0              </td><td>60.7             </td><td>24.0              </td><td>12.0              </td><td>44.0              </td><td>4.7219999999999995  </td><td>5.7010000000000005</td><td>4.4910000000000005</td><td>12.609000000000002</td><td>40.0             </td><td>1.311               </td><td>1.3769999999999998  </td><td>2.0                 </td><td>3.0                </td><td>3.0                 </td><td>1.641              </td><td>147.0             </td><td>1.0                </td><td>1.0                </td><td>3.0                </td><td>2.859              </td><td>1.073                 </td><td>1.0                 </td><td>71.167            </td><td>17.537            </td><td>8.0                </td><td>12.0              </td><td>18.0              </td><td>7.0               </td><td>10.695            </td><td>5.825             </td><td>8.0               </td><td>14.7              </td><td>4.0                 </td><td>27.0              </td><td>1.0                </td></tr>\n",
              "<tr><td>sigma  </td><td>0.5469159348956664</td><td>0.8313081690630229</td><td>1.4624521645592747</td><td>0.25601042273089053</td><td>2.332954652444361</td><td>1.0737710850562054 </td><td>2.2248220555704377</td><td>9.144465873577554</td><td>1.9635211137337352</td><td>1.7754345311248332</td><td>3.1165771945700773</td><td>0.7696623698948211  </td><td>0.5841500752640854</td><td>0.7861663633997086</td><td>0.928677593616352 </td><td>4.457242510863762</td><td>0.046494317704635454</td><td>0.030142956511920182</td><td>0.10180171386447745 </td><td>0.31747517848178325</td><td>0.21799739637319046 </td><td>0.09646570990743668</td><td>4.788542409023279 </td><td>0.19560629747109168</td><td>0.35513674494596703</td><td>0.199543531538818  </td><td>0.22613122931671623</td><td>0.15892843366260365   </td><td>0.1608117219084009  </td><td>11.895889198588334</td><td>2.096607261645107 </td><td>0.6440572583719993 </td><td>1.5204674814303352</td><td>2.273993795080805 </td><td>1.2570132045695208</td><td>0.9996022331905752</td><td>0.6427649111595332</td><td>1.0903887121338132</td><td>1.2419863557451927</td><td>0.31897014510760674 </td><td>2.2392863296763035</td><td>0.47306089771634163</td></tr>\n",
              "<tr><td>zeros  </td><td>0                 </td><td>0                 </td><td>727               </td><td>1022               </td><td>730              </td><td>906                </td><td>522               </td><td>1                </td><td>448               </td><td>311               </td><td>691               </td><td>651                 </td><td>0                 </td><td>59                </td><td>0                 </td><td>376              </td><td>0                   </td><td>0                   </td><td>1047                </td><td>992                </td><td>1033                </td><td>0                  </td><td>357               </td><td>1013               </td><td>899                </td><td>1026               </td><td>0                  </td><td>325                   </td><td>1027                </td><td>565               </td><td>0                 </td><td>994                </td><td>658               </td><td>657               </td><td>513               </td><td>0                 </td><td>0                 </td><td>634               </td><td>0                 </td><td>1025                </td><td>823               </td><td>699                </td></tr>\n",
              "<tr><td>missing</td><td>0                 </td><td>0                 </td><td>0                 </td><td>0                  </td><td>0                </td><td>0                  </td><td>0                 </td><td>0                </td><td>0                 </td><td>0                 </td><td>0                 </td><td>0                   </td><td>0                 </td><td>0                 </td><td>0                 </td><td>0                </td><td>0                   </td><td>0                   </td><td>0                   </td><td>0                  </td><td>0                   </td><td>0                  </td><td>0                 </td><td>0                  </td><td>0                  </td><td>0                  </td><td>0                  </td><td>0                     </td><td>0                   </td><td>0                 </td><td>0                 </td><td>0                  </td><td>0                 </td><td>0                 </td><td>0                 </td><td>0                 </td><td>0                 </td><td>0                 </td><td>0                 </td><td>0                   </td><td>0                 </td><td>0                  </td></tr>\n",
              "<tr><td>0      </td><td>3.919             </td><td>2.6909            </td><td>0.0               </td><td>0.0                </td><td>0.0              </td><td>0.0                </td><td>0.0               </td><td>31.4             </td><td>2.0               </td><td>0.0               </td><td>0.0               </td><td>0.0                 </td><td>3.1060000000000003</td><td>2.55              </td><td>9.002             </td><td>0.0              </td><td>0.96                </td><td>1.142               </td><td>0.0                 </td><td>0.0                </td><td>0.0                 </td><td>1.2009999999999998 </td><td>0.0               </td><td>0.0                </td><td>0.0                </td><td>0.0                </td><td>1.932              </td><td>0.011                 </td><td>0.0                 </td><td>0.0               </td><td>4.489             </td><td>0.0                </td><td>0.0               </td><td>0.0               </td><td>0.0               </td><td>2.949             </td><td>1.591             </td><td>0.0               </td><td>7.252999999999999 </td><td>0.0                 </td><td>0.0               </td><td>1.0                </td></tr>\n",
              "<tr><td>1      </td><td>4.17              </td><td>2.1144            </td><td>0.0               </td><td>0.0                </td><td>0.0              </td><td>0.0                </td><td>0.0               </td><td>30.8             </td><td>1.0               </td><td>1.0               </td><td>0.0               </td><td>0.0                 </td><td>2.461             </td><td>1.393             </td><td>8.722999999999999 </td><td>1.0              </td><td>0.989               </td><td>1.144               </td><td>0.0                 </td><td>0.0                </td><td>0.0                 </td><td>1.104              </td><td>1.0               </td><td>0.0                </td><td>0.0                </td><td>0.0                </td><td>2.214              </td><td>-0.204                </td><td>0.0                 </td><td>0.0               </td><td>1.5419999999999998</td><td>0.0                </td><td>0.0               </td><td>0.0               </td><td>0.0               </td><td>3.315             </td><td>1.967             </td><td>0.0               </td><td>7.257000000000001 </td><td>0.0                 </td><td>0.0               </td><td>1.0                </td></tr>\n",
              "<tr><td>2      </td><td>3.932             </td><td>3.2512            </td><td>0.0               </td><td>0.0                </td><td>0.0              </td><td>0.0                </td><td>0.0               </td><td>26.7             </td><td>2.0               </td><td>4.0               </td><td>0.0               </td><td>0.0                 </td><td>3.279             </td><td>2.585             </td><td>9.11              </td><td>0.0              </td><td>1.009               </td><td>1.152               </td><td>0.0                 </td><td>0.0                </td><td>0.0                 </td><td>1.092              </td><td>0.0               </td><td>0.0                </td><td>0.0                </td><td>0.0                </td><td>1.942              </td><td>-0.008                </td><td>0.0                 </td><td>0.0               </td><td>4.891             </td><td>0.0                </td><td>0.0               </td><td>0.0               </td><td>1.0               </td><td>3.076             </td><td>2.417             </td><td>0.0               </td><td>7.601             </td><td>0.0                 </td><td>0.0               </td><td>1.0                </td></tr>\n",
              "<tr><td>3      </td><td>3.0               </td><td>2.7098            </td><td>0.0               </td><td>0.0                </td><td>0.0              </td><td>0.0                </td><td>0.0               </td><td>20.0             </td><td>0.0               </td><td>2.0               </td><td>0.0               </td><td>0.0                 </td><td>2.1               </td><td>0.918             </td><td>6.593999999999999 </td><td>0.0              </td><td>1.108               </td><td>1.167               </td><td>0.0                 </td><td>0.0                </td><td>0.0                 </td><td>1.024              </td><td>0.0               </td><td>0.0                </td><td>0.0                </td><td>0.0                </td><td>1.414              </td><td>1.073                 </td><td>0.0                 </td><td>8.361             </td><td>1.3330000000000002</td><td>0.0                </td><td>0.0               </td><td>0.0               </td><td>1.0               </td><td>3.0460000000000003</td><td>5.0               </td><td>0.0               </td><td>6.69              </td><td>0.0                 </td><td>0.0               </td><td>1.0                </td></tr>\n",
              "<tr><td>4      </td><td>4.236000000000001 </td><td>3.3944            </td><td>0.0               </td><td>0.0                </td><td>0.0              </td><td>0.0                </td><td>0.0               </td><td>29.4             </td><td>2.0               </td><td>4.0               </td><td>0.0               </td><td>-0.271              </td><td>3.449             </td><td>2.753             </td><td>9.528             </td><td>2.0              </td><td>1.004               </td><td>1.147               </td><td>0.0                 </td><td>0.0                </td><td>0.0                 </td><td>1.137              </td><td>0.0               </td><td>0.0                </td><td>0.0                </td><td>0.0                </td><td>1.985              </td><td>-0.002                </td><td>0.0                 </td><td>10.348            </td><td>5.587999999999999 </td><td>0.0                </td><td>0.0               </td><td>0.0               </td><td>0.0               </td><td>3.3510000000000004</td><td>2.405             </td><td>0.0               </td><td>8.003             </td><td>0.0                 </td><td>0.0               </td><td>1.0                </td></tr>\n",
              "<tr><td>5      </td><td>4.236000000000001 </td><td>3.4286            </td><td>0.0               </td><td>0.0                </td><td>0.0              </td><td>0.0                </td><td>0.0               </td><td>28.6             </td><td>2.0               </td><td>4.0               </td><td>0.0               </td><td>-0.275              </td><td>3.313             </td><td>2.522             </td><td>9.383             </td><td>1.0              </td><td>1.014               </td><td>1.149               </td><td>0.0                 </td><td>0.0                </td><td>0.0                 </td><td>1.119              </td><td>0.0               </td><td>0.0                </td><td>0.0                </td><td>0.0                </td><td>1.98               </td><td>-0.008                </td><td>0.0                 </td><td>10.276            </td><td>4.746             </td><td>0.0                </td><td>0.0               </td><td>0.0               </td><td>0.0               </td><td>3.3510000000000004</td><td>2.556             </td><td>0.0               </td><td>7.904             </td><td>0.0                 </td><td>0.0               </td><td>1.0                </td></tr>\n",
              "<tr><td>6      </td><td>5.0               </td><td>5.0476            </td><td>1.0               </td><td>0.0                </td><td>0.0              </td><td>0.0                </td><td>0.0               </td><td>11.1             </td><td>0.0               </td><td>3.0               </td><td>0.0               </td><td>0.0                 </td><td>2.872             </td><td>0.722             </td><td>9.657             </td><td>0.0              </td><td>1.092               </td><td>1.153               </td><td>0.0                 </td><td>0.0                </td><td>0.0                 </td><td>1.125              </td><td>0.0               </td><td>0.0                </td><td>0.0                </td><td>0.0                </td><td>2.0                </td><td>0.446                 </td><td>0.0                 </td><td>18.375            </td><td>0.8               </td><td>0.0                </td><td>0.0               </td><td>0.0               </td><td>1.0               </td><td>4.712             </td><td>4.583             </td><td>0.0               </td><td>9.303             </td><td>0.0                 </td><td>0.0               </td><td>1.0                </td></tr>\n",
              "<tr><td>7      </td><td>4.525             </td><td>3.8301            </td><td>0.0               </td><td>0.0                </td><td>0.0              </td><td>0.0                </td><td>0.0               </td><td>31.6             </td><td>3.0               </td><td>2.0               </td><td>0.0               </td><td>-0.039              </td><td>3.418             </td><td>2.468             </td><td>9.786             </td><td>5.0              </td><td>0.98                </td><td>1.142               </td><td>0.0                 </td><td>0.0                </td><td>0.0                 </td><td>1.179              </td><td>0.0               </td><td>0.0                </td><td>0.0                </td><td>0.0                </td><td>2.119              </td><td>-0.002                </td><td>0.0                 </td><td>11.115            </td><td>3.889             </td><td>0.0                </td><td>0.0               </td><td>0.0               </td><td>0.0               </td><td>3.3789999999999996</td><td>2.143             </td><td>0.0               </td><td>7.95              </td><td>0.0                 </td><td>0.0               </td><td>1.0                </td></tr>\n",
              "<tr><td>8      </td><td>4.596             </td><td>3.0777            </td><td>0.0               </td><td>0.0                </td><td>0.0              </td><td>0.0                </td><td>2.0               </td><td>44.4             </td><td>2.0               </td><td>0.0               </td><td>0.0               </td><td>0.0                 </td><td>2.97              </td><td>0.875             </td><td>9.54              </td><td>0.0              </td><td>0.968               </td><td>1.115               </td><td>0.0                 </td><td>0.0                </td><td>0.0                 </td><td>1.328              </td><td>1.0               </td><td>0.0                </td><td>0.0                </td><td>0.0                </td><td>2.175              </td><td>0.040999999999999995  </td><td>0.0                 </td><td>0.0               </td><td>1.069             </td><td>0.0                </td><td>0.0               </td><td>0.0               </td><td>0.0               </td><td>3.626             </td><td>1.917             </td><td>0.0               </td><td>7.939             </td><td>0.0                 </td><td>0.0               </td><td>1.0                </td></tr>\n",
              "<tr><td>9      </td><td>5.04              </td><td>3.6112            </td><td>0.0               </td><td>0.0                </td><td>1.0              </td><td>0.0                </td><td>2.0               </td><td>41.2             </td><td>0.0               </td><td>4.0               </td><td>3.0               </td><td>-1.29               </td><td>3.483             </td><td>1.258             </td><td>10.159            </td><td>8.0              </td><td>1.069               </td><td>1.127               </td><td>0.0                 </td><td>1.0                </td><td>0.0                 </td><td>1.199              </td><td>1.0               </td><td>0.0                </td><td>0.0                </td><td>0.0                </td><td>2.323              </td><td>0.005                 </td><td>0.0                 </td><td>30.959            </td><td>1.711             </td><td>0.0                </td><td>1.0               </td><td>2.0               </td><td>1.0               </td><td>3.888             </td><td>3.5               </td><td>1.0               </td><td>8.706             </td><td>0.0                 </td><td>0.0               </td><td>1.0                </td></tr>\n",
              "</tbody>\n",
              "</table>"
            ]
          },
          "metadata": {
            "tags": []
          }
        }
      ]
    },
    {
      "cell_type": "code",
      "metadata": {
        "id": "2SlrqE4V9cF2",
        "colab_type": "code",
        "colab": {}
      },
      "source": [
        "train, test = hf.split_frame([0.66], seed=1234)"
      ],
      "execution_count": null,
      "outputs": []
    },
    {
      "cell_type": "code",
      "metadata": {
        "id": "hJPLYnGj8YD7",
        "colab_type": "code",
        "colab": {}
      },
      "source": [
        "#The oolumn names for the features and the target are supplied to the H2O model"
      ],
      "execution_count": 12,
      "outputs": []
    },
    {
      "cell_type": "code",
      "metadata": {
        "id": "az9HsROl9cF7",
        "colab_type": "code",
        "colab": {}
      },
      "source": [
        "y = 'bio_class'\n",
        "X = train.columns\n",
        "X.remove(y)"
      ],
      "execution_count": null,
      "outputs": []
    },
    {
      "cell_type": "code",
      "metadata": {
        "id": "_notGEy49cGE",
        "colab_type": "code",
        "colab": {}
      },
      "source": [
        "#H2O AutoML can be set to different runtimes for it to find the best performing model"
      ],
      "execution_count": 13,
      "outputs": []
    },
    {
      "cell_type": "code",
      "metadata": {
        "id": "Ct_Sc3Ki9cGJ",
        "colab_type": "code",
        "colab": {
          "base_uri": "https://localhost:8080/",
          "height": 34
        },
        "outputId": "3f0178b1-1d1f-4004-b2c5-1f7d4ec06f39"
      },
      "source": [
        "#Y = \"bio_class\"\n",
        "from h2o.automl import H2OAutoML\n",
        "\n",
        "aml = H2OAutoML(max_runtime_secs = 60,\n",
        "                seed = 42)\n",
        "\n",
        "\n",
        "aml.train(x = X, \n",
        "          y = y,\n",
        "          training_frame = train,\n",
        "          leaderboard_frame = test)"
      ],
      "execution_count": null,
      "outputs": [
        {
          "output_type": "stream",
          "text": [
            "AutoML progress: |████████████████████████████████████████████████████████| 100%\n"
          ],
          "name": "stdout"
        }
      ]
    },
    {
      "cell_type": "code",
      "metadata": {
        "id": "aVXUQB2aQl7B",
        "colab_type": "code",
        "colab": {
          "base_uri": "https://localhost:8080/",
          "height": 254
        },
        "outputId": "57addc52-174e-4c16-c725-c298a3090aec"
      },
      "source": [
        "lb = aml.leaderboard\n",
        "\n",
        "lb"
      ],
      "execution_count": null,
      "outputs": [
        {
          "output_type": "display_data",
          "data": {
            "text/html": [
              "<table>\n",
              "<thead>\n",
              "<tr><th>model_id                                           </th><th style=\"text-align: right;\">  mean_residual_deviance</th><th style=\"text-align: right;\">    rmse</th><th style=\"text-align: right;\">      mse</th><th style=\"text-align: right;\">     mae</th><th style=\"text-align: right;\">   rmsle</th></tr>\n",
              "</thead>\n",
              "<tbody>\n",
              "<tr><td>XGBoost_grid__1_AutoML_20200620_010413_model_2     </td><td style=\"text-align: right;\">               0.0915781</td><td style=\"text-align: right;\">0.302619</td><td style=\"text-align: right;\">0.0915781</td><td style=\"text-align: right;\">0.195709</td><td style=\"text-align: right;\">0.217285</td></tr>\n",
              "<tr><td>StackedEnsemble_BestOfFamily_AutoML_20200620_010413</td><td style=\"text-align: right;\">               0.094054 </td><td style=\"text-align: right;\">0.306682</td><td style=\"text-align: right;\">0.094054 </td><td style=\"text-align: right;\">0.208893</td><td style=\"text-align: right;\">0.219489</td></tr>\n",
              "<tr><td>StackedEnsemble_AllModels_AutoML_20200620_010413   </td><td style=\"text-align: right;\">               0.0981433</td><td style=\"text-align: right;\">0.313278</td><td style=\"text-align: right;\">0.0981433</td><td style=\"text-align: right;\">0.211345</td><td style=\"text-align: right;\">0.224427</td></tr>\n",
              "<tr><td>XGBoost_grid__1_AutoML_20200620_010413_model_4     </td><td style=\"text-align: right;\">               0.0984369</td><td style=\"text-align: right;\">0.313747</td><td style=\"text-align: right;\">0.0984369</td><td style=\"text-align: right;\">0.201243</td><td style=\"text-align: right;\">0.222348</td></tr>\n",
              "<tr><td>XGBoost_grid__1_AutoML_20200620_010413_model_6     </td><td style=\"text-align: right;\">               0.100727 </td><td style=\"text-align: right;\">0.317375</td><td style=\"text-align: right;\">0.100727 </td><td style=\"text-align: right;\">0.215474</td><td style=\"text-align: right;\">0.226143</td></tr>\n",
              "<tr><td>GBM_3_AutoML_20200620_010413                       </td><td style=\"text-align: right;\">               0.104223 </td><td style=\"text-align: right;\">0.322835</td><td style=\"text-align: right;\">0.104223 </td><td style=\"text-align: right;\">0.256546</td><td style=\"text-align: right;\">0.228464</td></tr>\n",
              "<tr><td>GBM_grid__1_AutoML_20200620_010413_model_1         </td><td style=\"text-align: right;\">               0.104305 </td><td style=\"text-align: right;\">0.322963</td><td style=\"text-align: right;\">0.104305 </td><td style=\"text-align: right;\">0.208057</td><td style=\"text-align: right;\">0.229893</td></tr>\n",
              "<tr><td>XGBoost_grid__1_AutoML_20200620_010413_model_3     </td><td style=\"text-align: right;\">               0.105986 </td><td style=\"text-align: right;\">0.325555</td><td style=\"text-align: right;\">0.105986 </td><td style=\"text-align: right;\">0.21479 </td><td style=\"text-align: right;\">0.232941</td></tr>\n",
              "<tr><td>DRF_1_AutoML_20200620_010413                       </td><td style=\"text-align: right;\">               0.107349 </td><td style=\"text-align: right;\">0.327641</td><td style=\"text-align: right;\">0.107349 </td><td style=\"text-align: right;\">0.194524</td><td style=\"text-align: right;\">0.230588</td></tr>\n",
              "<tr><td>XGBoost_grid__1_AutoML_20200620_010413_model_7     </td><td style=\"text-align: right;\">               0.107891 </td><td style=\"text-align: right;\">0.328467</td><td style=\"text-align: right;\">0.107891 </td><td style=\"text-align: right;\">0.228817</td><td style=\"text-align: right;\">0.23644 </td></tr>\n",
              "</tbody>\n",
              "</table>"
            ]
          },
          "metadata": {
            "tags": []
          }
        },
        {
          "output_type": "execute_result",
          "data": {
            "text/plain": [
              ""
            ]
          },
          "metadata": {
            "tags": []
          },
          "execution_count": 41
        }
      ]
    },
    {
      "cell_type": "code",
      "metadata": {
        "id": "a6hTfNTfQKu8",
        "colab_type": "code",
        "colab": {}
      },
      "source": [
        "aml = H2OAutoML(max_runtime_secs = 60)"
      ],
      "execution_count": null,
      "outputs": []
    },
    {
      "cell_type": "code",
      "metadata": {
        "id": "3iP4UpEI9cGk",
        "colab_type": "code",
        "colab": {}
      },
      "source": [
        "#train[Y] = train[Y].asfactor()\n",
        "train[y] = train[y].asfactor()"
      ],
      "execution_count": null,
      "outputs": []
    },
    {
      "cell_type": "code",
      "metadata": {
        "id": "J6eiu0lR9cGu",
        "colab_type": "code",
        "colab": {}
      },
      "source": [
        "#test[Y] = test[Y].asfactor()\n",
        "test[y] = test[y].asfactor()"
      ],
      "execution_count": null,
      "outputs": []
    },
    {
      "cell_type": "code",
      "metadata": {
        "id": "34sw23Rt9cG8",
        "colab_type": "code",
        "colab": {
          "base_uri": "https://localhost:8080/",
          "height": 34
        },
        "outputId": "e678ef81-460b-4a85-f095-f1fce79e0ff9"
      },
      "source": [
        "aml.train(x = X, y = y,training_frame = train,leaderboard_frame = test)"
      ],
      "execution_count": null,
      "outputs": [
        {
          "output_type": "stream",
          "text": [
            "AutoML progress: |████████████████████████████████████████████████████████| 100%\n"
          ],
          "name": "stdout"
        }
      ]
    },
    {
      "cell_type": "code",
      "metadata": {
        "id": "L_e4a2ZX9cHG",
        "colab_type": "code",
        "colab": {
          "base_uri": "https://localhost:8080/",
          "height": 254
        },
        "outputId": "62bb82e6-5e04-45ec-8b0b-e8cb4fde68bf"
      },
      "source": [
        "lb = aml.leaderboard\n",
        "lb"
      ],
      "execution_count": null,
      "outputs": [
        {
          "output_type": "display_data",
          "data": {
            "text/html": [
              "<table>\n",
              "<thead>\n",
              "<tr><th>model_id                                           </th><th style=\"text-align: right;\">     auc</th><th style=\"text-align: right;\">  logloss</th><th style=\"text-align: right;\">   aucpr</th><th style=\"text-align: right;\">  mean_per_class_error</th><th style=\"text-align: right;\">    rmse</th><th style=\"text-align: right;\">      mse</th></tr>\n",
              "</thead>\n",
              "<tbody>\n",
              "<tr><td>StackedEnsemble_BestOfFamily_AutoML_20200620_011616</td><td style=\"text-align: right;\">0.93364 </td><td style=\"text-align: right;\"> 0.299022</td><td style=\"text-align: right;\">0.885502</td><td style=\"text-align: right;\">              0.113943</td><td style=\"text-align: right;\">0.297553</td><td style=\"text-align: right;\">0.0885375</td></tr>\n",
              "<tr><td>StackedEnsemble_AllModels_AutoML_20200620_011616   </td><td style=\"text-align: right;\">0.931914</td><td style=\"text-align: right;\"> 0.302557</td><td style=\"text-align: right;\">0.880927</td><td style=\"text-align: right;\">              0.119467</td><td style=\"text-align: right;\">0.299499</td><td style=\"text-align: right;\">0.0896998</td></tr>\n",
              "<tr><td>XGBoost_grid__1_AutoML_20200620_011616_model_1     </td><td style=\"text-align: right;\">0.93107 </td><td style=\"text-align: right;\"> 0.313271</td><td style=\"text-align: right;\">0.890352</td><td style=\"text-align: right;\">              0.15583 </td><td style=\"text-align: right;\">0.308875</td><td style=\"text-align: right;\">0.0954038</td></tr>\n",
              "<tr><td>GBM_3_AutoML_20200620_011616                       </td><td style=\"text-align: right;\">0.92898 </td><td style=\"text-align: right;\"> 0.352463</td><td style=\"text-align: right;\">0.888707</td><td style=\"text-align: right;\">              0.14041 </td><td style=\"text-align: right;\">0.320924</td><td style=\"text-align: right;\">0.102992 </td></tr>\n",
              "<tr><td>XGBoost_grid__1_AutoML_20200620_011616_model_5     </td><td style=\"text-align: right;\">0.924588</td><td style=\"text-align: right;\"> 0.316281</td><td style=\"text-align: right;\">0.88079 </td><td style=\"text-align: right;\">              0.150307</td><td style=\"text-align: right;\">0.311547</td><td style=\"text-align: right;\">0.0970615</td></tr>\n",
              "<tr><td>XGBoost_grid__1_AutoML_20200620_011616_model_6     </td><td style=\"text-align: right;\">0.920253</td><td style=\"text-align: right;\"> 0.337323</td><td style=\"text-align: right;\">0.877258</td><td style=\"text-align: right;\">              0.168335</td><td style=\"text-align: right;\">0.317613</td><td style=\"text-align: right;\">0.100878 </td></tr>\n",
              "<tr><td>XGBoost_grid__1_AutoML_20200620_011616_model_3     </td><td style=\"text-align: right;\">0.919141</td><td style=\"text-align: right;\"> 0.341039</td><td style=\"text-align: right;\">0.878023</td><td style=\"text-align: right;\">              0.137323</td><td style=\"text-align: right;\">0.314535</td><td style=\"text-align: right;\">0.0989321</td></tr>\n",
              "<tr><td>GBM_2_AutoML_20200620_011616                       </td><td style=\"text-align: right;\">0.918028</td><td style=\"text-align: right;\"> 0.353842</td><td style=\"text-align: right;\">0.872518</td><td style=\"text-align: right;\">              0.146087</td><td style=\"text-align: right;\">0.322869</td><td style=\"text-align: right;\">0.104245 </td></tr>\n",
              "<tr><td>GLM_1_AutoML_20200620_011616                       </td><td style=\"text-align: right;\">0.917837</td><td style=\"text-align: right;\"> 0.34348 </td><td style=\"text-align: right;\">0.817694</td><td style=\"text-align: right;\">              0.130015</td><td style=\"text-align: right;\">0.319727</td><td style=\"text-align: right;\">0.102225 </td></tr>\n",
              "<tr><td>DRF_1_AutoML_20200620_011616                       </td><td style=\"text-align: right;\">0.916858</td><td style=\"text-align: right;\"> 0.670113</td><td style=\"text-align: right;\">0.882378</td><td style=\"text-align: right;\">              0.136671</td><td style=\"text-align: right;\">0.308194</td><td style=\"text-align: right;\">0.0949836</td></tr>\n",
              "</tbody>\n",
              "</table>"
            ]
          },
          "metadata": {
            "tags": []
          }
        },
        {
          "output_type": "execute_result",
          "data": {
            "text/plain": [
              ""
            ]
          },
          "metadata": {
            "tags": []
          },
          "execution_count": 47
        }
      ]
    },
    {
      "cell_type": "code",
      "metadata": {
        "id": "ijHkDwPJ9cHY",
        "colab_type": "code",
        "colab": {
          "base_uri": "https://localhost:8080/",
          "height": 34
        },
        "outputId": "7b646277-0892-4184-edb5-4d06ab919e40"
      },
      "source": [
        "leader_model = aml.leader\n",
        "hf_test_predict = leader_model.predict(test)"
      ],
      "execution_count": null,
      "outputs": [
        {
          "output_type": "stream",
          "text": [
            "stackedensemble prediction progress: |████████████████████████████████████| 100%\n"
          ],
          "name": "stdout"
        }
      ]
    },
    {
      "cell_type": "code",
      "metadata": {
        "id": "sYmlCDxU9cHf",
        "colab_type": "code",
        "colab": {}
      },
      "source": [
        ""
      ],
      "execution_count": null,
      "outputs": []
    }
  ]
}