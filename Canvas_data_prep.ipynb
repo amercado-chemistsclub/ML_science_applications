{
  "cells": [
    {
      "cell_type": "code",
      "execution_count": null,
      "metadata": {
        "colab": {
          "base_uri": "https://localhost:8080/"
        },
        "id": "FkEOh4c3ai7K",
        "outputId": "3b5bbc0b-aa5f-4474-8598-71f85bf004d6"
      },
      "outputs": [
        {
          "output_type": "stream",
          "name": "stdout",
          "text": [
            "--2022-10-14 16:54:54--  http://archive.ics.uci.edu/ml/machine-learning-databases/00254/biodeg.csv\n",
            "Resolving archive.ics.uci.edu (archive.ics.uci.edu)... 128.195.10.252\n",
            "Connecting to archive.ics.uci.edu (archive.ics.uci.edu)|128.195.10.252|:80... connected.\n",
            "HTTP request sent, awaiting response... 200 OK\n",
            "Length: 155987 (152K) [application/x-httpd-php]\n",
            "Saving to: ‘biodeg.csv’\n",
            "\n",
            "biodeg.csv          100%[===================>] 152.33K   726KB/s    in 0.2s    \n",
            "\n",
            "2022-10-14 16:54:54 (726 KB/s) - ‘biodeg.csv’ saved [155987/155987]\n",
            "\n"
          ]
        }
      ],
      "source": [
        "#Run this in the terminal instead of a Python IDE\n",
        "!wget http://archive.ics.uci.edu/ml/machine-learning-databases/00254/biodeg.csv"
      ]
    },
    {
      "cell_type": "code",
      "source": [],
      "metadata": {
        "id": "Fb3yTxtT28y9"
      },
      "execution_count": null,
      "outputs": []
    },
    {
      "cell_type": "code",
      "execution_count": null,
      "metadata": {
        "id": "bg0-EV2Tai7U"
      },
      "outputs": [],
      "source": [
        "#import dataset of QSAR features and target value\n",
        "import pandas as pd\n",
        "df_bio=pd.read_csv(\"biodeg.csv\", sep = ';', header=None)"
      ]
    },
    {
      "cell_type": "code",
      "execution_count": null,
      "metadata": {
        "id": "SOpklmRlai7Z"
      },
      "outputs": [],
      "source": [
        "#Create column names list for dataset\n",
        "\n",
        "col=[]\n",
        "for schema in range(len(df_bio.columns)):\n",
        "  col.append(\"Val_\"+str(schema))\n",
        "\n",
        "#print(col)"
      ]
    },
    {
      "cell_type": "code",
      "execution_count": null,
      "metadata": {
        "id": "_2Pp8Etuai7b",
        "outputId": "a235c942-26c3-498f-f003-25d293c18b11"
      },
      "outputs": [
        {
          "data": {
            "text/plain": [
              "['Val_0',\n",
              " 'Val_1',\n",
              " 'Val_2',\n",
              " 'Val_3',\n",
              " 'Val_4',\n",
              " 'Val_5',\n",
              " 'Val_6',\n",
              " 'Val_7',\n",
              " 'Val_8',\n",
              " 'Val_9',\n",
              " 'Val_10',\n",
              " 'Val_11',\n",
              " 'Val_12',\n",
              " 'Val_13',\n",
              " 'Val_14',\n",
              " 'Val_15',\n",
              " 'Val_16',\n",
              " 'Val_17',\n",
              " 'Val_18',\n",
              " 'Val_19',\n",
              " 'Val_20',\n",
              " 'Val_21',\n",
              " 'Val_22',\n",
              " 'Val_23',\n",
              " 'Val_24',\n",
              " 'Val_25',\n",
              " 'Val_26',\n",
              " 'Val_27',\n",
              " 'Val_28',\n",
              " 'Val_29',\n",
              " 'Val_30',\n",
              " 'Val_31',\n",
              " 'Val_32',\n",
              " 'Val_33',\n",
              " 'Val_34',\n",
              " 'Val_35',\n",
              " 'Val_36',\n",
              " 'Val_37',\n",
              " 'Val_38',\n",
              " 'Val_39',\n",
              " 'Val_40',\n",
              " 'Val_41']"
            ]
          },
          "execution_count": 7,
          "metadata": {},
          "output_type": "execute_result"
        }
      ],
      "source": [
        "# Assign from the list and Check columnn names\n",
        "df_bio.columns = col\n",
        "list(df_bio.columns)"
      ]
    },
    {
      "cell_type": "code",
      "execution_count": null,
      "metadata": {
        "id": "Ns3OVrlMai7g"
      },
      "outputs": [],
      "source": [
        "#Assign values for target labels of features\n",
        "d = {'RB': 1, 'NRB': 0}\n",
        "\n",
        "df_bio['bio_class']=df_bio.iloc[:,-1].map(d)\n",
        "#df_bio.drop(df_bio.columns[41],axis=1,inplace=True)"
      ]
    },
    {
      "cell_type": "code",
      "execution_count": null,
      "metadata": {
        "id": "3Hu-bZHtai7j",
        "outputId": "2acea230-616f-460d-a6e9-7881b587d526"
      },
      "outputs": [
        {
          "data": {
            "text/html": [
              "<div>\n",
              "<style scoped>\n",
              "    .dataframe tbody tr th:only-of-type {\n",
              "        vertical-align: middle;\n",
              "    }\n",
              "\n",
              "    .dataframe tbody tr th {\n",
              "        vertical-align: top;\n",
              "    }\n",
              "\n",
              "    .dataframe thead th {\n",
              "        text-align: right;\n",
              "    }\n",
              "</style>\n",
              "<table border=\"1\" class=\"dataframe\">\n",
              "  <thead>\n",
              "    <tr style=\"text-align: right;\">\n",
              "      <th></th>\n",
              "      <th>Val_0</th>\n",
              "      <th>Val_1</th>\n",
              "      <th>Val_2</th>\n",
              "      <th>Val_3</th>\n",
              "      <th>Val_4</th>\n",
              "      <th>Val_5</th>\n",
              "      <th>Val_6</th>\n",
              "      <th>Val_7</th>\n",
              "      <th>Val_8</th>\n",
              "      <th>Val_9</th>\n",
              "      <th>...</th>\n",
              "      <th>Val_33</th>\n",
              "      <th>Val_34</th>\n",
              "      <th>Val_35</th>\n",
              "      <th>Val_36</th>\n",
              "      <th>Val_37</th>\n",
              "      <th>Val_38</th>\n",
              "      <th>Val_39</th>\n",
              "      <th>Val_40</th>\n",
              "      <th>Val_41</th>\n",
              "      <th>bio_class</th>\n",
              "    </tr>\n",
              "  </thead>\n",
              "  <tbody>\n",
              "    <tr>\n",
              "      <th>0</th>\n",
              "      <td>3.919</td>\n",
              "      <td>2.6909</td>\n",
              "      <td>0</td>\n",
              "      <td>0</td>\n",
              "      <td>0</td>\n",
              "      <td>0</td>\n",
              "      <td>0</td>\n",
              "      <td>31.4</td>\n",
              "      <td>2</td>\n",
              "      <td>0</td>\n",
              "      <td>...</td>\n",
              "      <td>0</td>\n",
              "      <td>0</td>\n",
              "      <td>2.949</td>\n",
              "      <td>1.591</td>\n",
              "      <td>0</td>\n",
              "      <td>7.253</td>\n",
              "      <td>0</td>\n",
              "      <td>0</td>\n",
              "      <td>RB</td>\n",
              "      <td>1</td>\n",
              "    </tr>\n",
              "    <tr>\n",
              "      <th>1</th>\n",
              "      <td>4.170</td>\n",
              "      <td>2.1144</td>\n",
              "      <td>0</td>\n",
              "      <td>0</td>\n",
              "      <td>0</td>\n",
              "      <td>0</td>\n",
              "      <td>0</td>\n",
              "      <td>30.8</td>\n",
              "      <td>1</td>\n",
              "      <td>1</td>\n",
              "      <td>...</td>\n",
              "      <td>0</td>\n",
              "      <td>0</td>\n",
              "      <td>3.315</td>\n",
              "      <td>1.967</td>\n",
              "      <td>0</td>\n",
              "      <td>7.257</td>\n",
              "      <td>0</td>\n",
              "      <td>0</td>\n",
              "      <td>RB</td>\n",
              "      <td>1</td>\n",
              "    </tr>\n",
              "    <tr>\n",
              "      <th>2</th>\n",
              "      <td>3.932</td>\n",
              "      <td>3.2512</td>\n",
              "      <td>0</td>\n",
              "      <td>0</td>\n",
              "      <td>0</td>\n",
              "      <td>0</td>\n",
              "      <td>0</td>\n",
              "      <td>26.7</td>\n",
              "      <td>2</td>\n",
              "      <td>4</td>\n",
              "      <td>...</td>\n",
              "      <td>0</td>\n",
              "      <td>1</td>\n",
              "      <td>3.076</td>\n",
              "      <td>2.417</td>\n",
              "      <td>0</td>\n",
              "      <td>7.601</td>\n",
              "      <td>0</td>\n",
              "      <td>0</td>\n",
              "      <td>RB</td>\n",
              "      <td>1</td>\n",
              "    </tr>\n",
              "    <tr>\n",
              "      <th>3</th>\n",
              "      <td>3.000</td>\n",
              "      <td>2.7098</td>\n",
              "      <td>0</td>\n",
              "      <td>0</td>\n",
              "      <td>0</td>\n",
              "      <td>0</td>\n",
              "      <td>0</td>\n",
              "      <td>20.0</td>\n",
              "      <td>0</td>\n",
              "      <td>2</td>\n",
              "      <td>...</td>\n",
              "      <td>0</td>\n",
              "      <td>1</td>\n",
              "      <td>3.046</td>\n",
              "      <td>5.000</td>\n",
              "      <td>0</td>\n",
              "      <td>6.690</td>\n",
              "      <td>0</td>\n",
              "      <td>0</td>\n",
              "      <td>RB</td>\n",
              "      <td>1</td>\n",
              "    </tr>\n",
              "    <tr>\n",
              "      <th>4</th>\n",
              "      <td>4.236</td>\n",
              "      <td>3.3944</td>\n",
              "      <td>0</td>\n",
              "      <td>0</td>\n",
              "      <td>0</td>\n",
              "      <td>0</td>\n",
              "      <td>0</td>\n",
              "      <td>29.4</td>\n",
              "      <td>2</td>\n",
              "      <td>4</td>\n",
              "      <td>...</td>\n",
              "      <td>0</td>\n",
              "      <td>0</td>\n",
              "      <td>3.351</td>\n",
              "      <td>2.405</td>\n",
              "      <td>0</td>\n",
              "      <td>8.003</td>\n",
              "      <td>0</td>\n",
              "      <td>0</td>\n",
              "      <td>RB</td>\n",
              "      <td>1</td>\n",
              "    </tr>\n",
              "  </tbody>\n",
              "</table>\n",
              "<p>5 rows × 43 columns</p>\n",
              "</div>"
            ],
            "text/plain": [
              "   Val_0   Val_1  Val_2  Val_3  Val_4  Val_5  Val_6  Val_7  Val_8  Val_9  ...  \\\n",
              "0  3.919  2.6909      0      0      0      0      0   31.4      2      0  ...   \n",
              "1  4.170  2.1144      0      0      0      0      0   30.8      1      1  ...   \n",
              "2  3.932  3.2512      0      0      0      0      0   26.7      2      4  ...   \n",
              "3  3.000  2.7098      0      0      0      0      0   20.0      0      2  ...   \n",
              "4  4.236  3.3944      0      0      0      0      0   29.4      2      4  ...   \n",
              "\n",
              "   Val_33  Val_34  Val_35  Val_36  Val_37  Val_38  Val_39  Val_40  Val_41  \\\n",
              "0       0       0   2.949   1.591       0   7.253       0       0      RB   \n",
              "1       0       0   3.315   1.967       0   7.257       0       0      RB   \n",
              "2       0       1   3.076   2.417       0   7.601       0       0      RB   \n",
              "3       0       1   3.046   5.000       0   6.690       0       0      RB   \n",
              "4       0       0   3.351   2.405       0   8.003       0       0      RB   \n",
              "\n",
              "   bio_class  \n",
              "0          1  \n",
              "1          1  \n",
              "2          1  \n",
              "3          1  \n",
              "4          1  \n",
              "\n",
              "[5 rows x 43 columns]"
            ]
          },
          "execution_count": 9,
          "metadata": {},
          "output_type": "execute_result"
        }
      ],
      "source": [
        "df_bio.head()"
      ]
    },
    {
      "cell_type": "code",
      "execution_count": null,
      "metadata": {
        "id": "lBqPXJJSai7m"
      },
      "outputs": [],
      "source": [
        "df_bio.to_csv('biodeg_qsar_transform.csv')"
      ]
    },
    {
      "cell_type": "code",
      "execution_count": null,
      "metadata": {
        "id": "POQ7akymai7o"
      },
      "outputs": [],
      "source": []
    }
  ],
  "metadata": {
    "instance_type": "ml.t3.medium",
    "kernelspec": {
      "display_name": "Python 3 (Data Science)",
      "language": "python",
      "name": "python3__SAGEMAKER_INTERNAL__arn:aws:sagemaker:us-east-2:429704687514:image/datascience-1.0"
    },
    "language_info": {
      "codemirror_mode": {
        "name": "ipython",
        "version": 3
      },
      "file_extension": ".py",
      "mimetype": "text/x-python",
      "name": "python",
      "nbconvert_exporter": "python",
      "pygments_lexer": "ipython3",
      "version": "3.7.10"
    },
    "colab": {
      "provenance": []
    }
  },
  "nbformat": 4,
  "nbformat_minor": 0
}